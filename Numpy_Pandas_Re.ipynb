{
 "cells": [
  {
   "cell_type": "code",
   "execution_count": 43,
   "metadata": {},
   "outputs": [],
   "source": [
    "# 0207 python for data analysis study를 위한 실습 ipynb\n",
    "# 4장 <numpy 기본> 에서 알아둘 내용 정리\n",
    "import numpy as np"
   ]
  },
  {
   "cell_type": "code",
   "execution_count": 5,
   "metadata": {},
   "outputs": [
    {
     "name": "stdout",
     "output_type": "stream",
     "text": [
      "<class 'list'> <class 'numpy.ndarray'>\n",
      "[1, 2, 3, 4] [1 2 3 4]\n",
      "(4,)\n",
      "4 4\n",
      "(1, 3, 3) 3\n"
     ]
    }
   ],
   "source": [
    "# I downloaded numpy(numerical python) in version 3.9.13 \n",
    "l1 = [1,2,3,4]\n",
    "arr = np.array(l1)\n",
    "print(type(l1) , type(arr))\n",
    "print(l1 , arr)\n",
    "# numpy의 array의 type이 ndarray인 거고 실제로 define할때는 np.array 이런식으로 작성해야 한다.\n",
    "print(arr.shape ) # l1(list형)은 shape가 없다. -> shape shows the size  of the array\n",
    "# (4,) 이렇게 생긴건 1차원일때만,\n",
    "print(len(l1) , len(arr))\n",
    "ar = np.array([[[1,2,3],[4,5,6],[7,8,9]]])\n",
    "print(ar.shape , ar.ndim)"
   ]
  },
  {
   "cell_type": "code",
   "execution_count": 19,
   "metadata": {},
   "outputs": [
    {
     "name": "stdout",
     "output_type": "stream",
     "text": [
      "[ 0  1  2  3  4  5  6  7  8  9 10 11 12 13 14 15 16 17 18 19]\n",
      "[2 3 4 5 6 7 8 9]\n",
      "<class 'range'> 2\n",
      "<class 'numpy.ndarray'>\n"
     ]
    }
   ],
   "source": [
    "arr2 = np.arange(20)\n",
    "print(arr2)\n",
    "arr3 = np.arange(2,10)\n",
    "print(arr3)\n",
    "l2 = range(2,30)\n",
    "print(type(l2), l2[0])\n",
    "print(type(arr3)) # ndarray객체를 반환한다."
   ]
  },
  {
   "cell_type": "code",
   "execution_count": 25,
   "metadata": {},
   "outputs": [
    {
     "name": "stdout",
     "output_type": "stream",
     "text": [
      "[[0. 0. 0.]\n",
      " [0. 0. 0.]]\n",
      "[[[0. 0. 0. 0. 0.]\n",
      "  [0. 0. 0. 0. 0.]\n",
      "  [0. 0. 0. 0. 0.]\n",
      "  [0. 0. 0. 0. 0.]]\n",
      "\n",
      " [[0. 0. 0. 0. 0.]\n",
      "  [0. 0. 0. 0. 0.]\n",
      "  [0. 0. 0. 0. 0.]\n",
      "  [0. 0. 0. 0. 0.]]\n",
      "\n",
      " [[0. 0. 0. 0. 0.]\n",
      "  [0. 0. 0. 0. 0.]\n",
      "  [0. 0. 0. 0. 0.]\n",
      "  [0. 0. 0. 0. 0.]]]\n"
     ]
    }
   ],
   "source": [
    "print(np.zeros((2,3)))\n",
    "print(np.zeros(((3,4,5))))\n",
    "# zero들을 생성"
   ]
  },
  {
   "cell_type": "code",
   "execution_count": 33,
   "metadata": {},
   "outputs": [
    {
     "name": "stdout",
     "output_type": "stream",
     "text": [
      "[[10 10 10 10]\n",
      " [10 10 10 10]\n",
      " [10 10 10 10]]\n",
      "[[[-1 -1 -1]\n",
      "  [-1 -1 -1]\n",
      "  [-1 -1 -1]\n",
      "  [-1 -1 -1]]\n",
      "\n",
      " [[-1 -1 -1]\n",
      "  [-1 -1 -1]\n",
      "  [-1 -1 -1]\n",
      "  [-1 -1 -1]]\n",
      "\n",
      " [[-1 -1 -1]\n",
      "  [-1 -1 -1]\n",
      "  [-1 -1 -1]\n",
      "  [-1 -1 -1]]]\n"
     ]
    }
   ],
   "source": [
    "print(np.full((3,4), 10)) # 딱 보면 알거라고 생각한다.\n",
    "print(np.full(((3,4,3)), -1))"
   ]
  },
  {
   "cell_type": "code",
   "execution_count": 3,
   "metadata": {},
   "outputs": [
    {
     "name": "stdout",
     "output_type": "stream",
     "text": [
      "[[1. 0. 0.]\n",
      " [0. 1. 0.]\n",
      " [0. 0. 1.]]\n",
      "[[1. 0. 0. 0.]\n",
      " [0. 1. 0. 0.]\n",
      " [0. 0. 1. 0.]\n",
      " [0. 0. 0. 1.]]\n",
      "[[1. 0. 0. 0. 0.]\n",
      " [0. 1. 0. 0. 0.]\n",
      " [0. 0. 1. 0. 0.]\n",
      " [0. 0. 0. 1. 0.]\n",
      " [0. 0. 0. 0. 1.]]\n"
     ]
    }
   ],
   "source": [
    "print(np.eye(3))\n",
    "print(np.eye(4))\n",
    "print(np.eye(5))\n",
    "# making the 단위행렬"
   ]
  },
  {
   "cell_type": "code",
   "execution_count": 7,
   "metadata": {},
   "outputs": [
    {
     "name": "stdout",
     "output_type": "stream",
     "text": [
      "<class 'numpy.ndarray'>\n",
      "float64\n"
     ]
    }
   ],
   "source": [
    "print(type(np.zeros(3))) # np.zero 자체의 type\n",
    "print(np.zeros(3).dtype) # ndarray의 속성값의 type"
   ]
  },
  {
   "cell_type": "code",
   "execution_count": 20,
   "metadata": {},
   "outputs": [
    {
     "name": "stdout",
     "output_type": "stream",
     "text": [
      "[[1 2 3]\n",
      " [4 5 6]]\n",
      "[[ 2  4  6]\n",
      " [ 8 10 12]]\n",
      "[[ 1  4  9]\n",
      " [16 25 36]]\n",
      "[[0 0 0]\n",
      " [0 0 0]]\n",
      "[[1.         1.41421356 1.73205081]\n",
      " [2.         2.23606798 2.44948974]]\n",
      "[[ True  True False]\n",
      " [False False False]]\n"
     ]
    }
   ],
   "source": [
    "# numpy 산술연산\n",
    "arr = np.array([[1,2,3],[4,5,6]])\n",
    "print(arr)\n",
    "print(arr*2)\n",
    "print(arr*arr)\n",
    "print(arr-arr)\n",
    "print(arr**0.5)\n",
    "print(arr*2>=arr*arr) # this also returns the Boolean value"
   ]
  },
  {
   "cell_type": "code",
   "execution_count": 21,
   "metadata": {},
   "outputs": [
    {
     "name": "stdout",
     "output_type": "stream",
     "text": [
      "[ 3  4  5  6  7  8  9 10]\n",
      "[  3   4   5 121   7   8   9  10]\n"
     ]
    }
   ],
   "source": [
    "# View and Copy\n",
    "# numpy's array has the characteristic of 'view'\n",
    "arr = np.arange(3,11)\n",
    "print(arr)\n",
    "arr[3] = 121\n",
    "print(arr)"
   ]
  },
  {
   "cell_type": "code",
   "execution_count": 22,
   "metadata": {},
   "outputs": [
    {
     "name": "stdout",
     "output_type": "stream",
     "text": [
      "[-37   8   9]\n",
      "[  3   4   5 121 -37   8   9  10]\n"
     ]
    }
   ],
   "source": [
    "# 여기서 재밌는 일이 벌어진다\n",
    "ar_temp = arr[4:7]\n",
    "ar_temp[0]= -37\n",
    "print(ar_temp)\n",
    "print(arr) # 이 결과를 보면 알겠지만 \n",
    "# data는 복사되지 않고 view에 대한 변경은 그대로 원본 배열에 반영이 된다."
   ]
  },
  {
   "cell_type": "code",
   "execution_count": 23,
   "metadata": {},
   "outputs": [
    {
     "name": "stdout",
     "output_type": "stream",
     "text": [
      "[-37   8   9]\n",
      "[111 111 111]\n",
      "[  3   4   5 121 111 111 111  10]\n"
     ]
    }
   ],
   "source": [
    "# 단순히 slice를 하면 모든 값을 할당함\n",
    "print(ar_temp)\n",
    "ar_temp[:]= 111\n",
    "print(ar_temp)\n",
    "print(arr)"
   ]
  },
  {
   "cell_type": "code",
   "execution_count": 26,
   "metadata": {},
   "outputs": [
    {
     "name": "stdout",
     "output_type": "stream",
     "text": [
      "[  3   4   5 121 111 111 111]\n",
      "[ 30   4   5 121 111 111 111]\n",
      "[  3   4   5 121 111 111 111  10]\n"
     ]
    }
   ],
   "source": [
    "# copy본을 얻고 싶으면 -> .copy()를 써야한다.\n",
    "ar_new_temp = arr[:-1].copy()\n",
    "print(ar_new_temp)\n",
    "ar_new_temp[0]=30\n",
    "print(ar_new_temp)\n",
    "print(arr)"
   ]
  },
  {
   "cell_type": "code",
   "execution_count": 31,
   "metadata": {},
   "outputs": [
    {
     "name": "stdout",
     "output_type": "stream",
     "text": [
      "[[ 0. 10.  0.  0.]\n",
      " [ 0.  0.  0.  0.]\n",
      " [ 0.  0.  0.  0.]]\n",
      "[[ 0. 10. 11.  0.]\n",
      " [ 0.  0.  0.  0.]\n",
      " [ 0.  0.  0.  0.]]\n"
     ]
    }
   ],
   "source": [
    "arr2 = np.zeros((3,4))\n",
    "arr2[0][1]=10\n",
    "print(arr2)\n",
    "arr2[0,2]=11 # 이렇게 해도 상관은 없음\n",
    "print(arr2)"
   ]
  },
  {
   "cell_type": "code",
   "execution_count": 34,
   "metadata": {},
   "outputs": [],
   "source": [
    "# slicing \n",
    "arr2d =np.array([[1,2,3],[4,5,6],[7,8,9],[10,11,12]])"
   ]
  },
  {
   "cell_type": "code",
   "execution_count": 37,
   "metadata": {},
   "outputs": [
    {
     "name": "stdout",
     "output_type": "stream",
     "text": [
      "[[ 1  2  3]\n",
      " [ 4  5  6]\n",
      " [ 7  8  9]\n",
      " [10 11 12]]\n",
      "[[ 1  2  3]\n",
      " [ 4  5  6]\n",
      " [ 7  8  9]\n",
      " [10 11 12]]\n",
      "[[1 2 3]\n",
      " [4 5 6]]\n",
      "[[1 2 3]\n",
      " [4 5 6]\n",
      " [7 8 9]]\n"
     ]
    }
   ],
   "source": [
    "print(arr2d)\n",
    "print(arr2d[:])\n",
    "print(arr2d[:2])\n",
    "print(arr2d[:-1])\n",
    "# 다른점을 체크해보세요"
   ]
  },
  {
   "cell_type": "code",
   "execution_count": 42,
   "metadata": {},
   "outputs": [
    {
     "name": "stdout",
     "output_type": "stream",
     "text": [
      "[[2 3]\n",
      " [5 6]]\n",
      "[[1 2]\n",
      " [4 5]]\n",
      "[8 9]\n",
      "[[ 2  3]\n",
      " [ 5  6]\n",
      " [ 8  9]\n",
      " [11 12]]\n",
      "[ 3  6  9 12]\n"
     ]
    }
   ],
   "source": [
    "print(arr2d[:2, 1:])\n",
    "print(arr2d[:2, :-1])\n",
    "print(arr2d[2, 1:])\n",
    "print(arr2d[:, 1:])\n",
    "print(arr2d[:, -1])\n",
    "# 뭐가 어떻게 되는건지 확인해보세요"
   ]
  },
  {
   "cell_type": "code",
   "execution_count": 44,
   "metadata": {},
   "outputs": [
    {
     "name": "stdout",
     "output_type": "stream",
     "text": [
      "['kim' 'lee' 'park' 'choi' 'jung']\n",
      "[[ 1.69970331 -0.26838494  1.09443488 -0.26114198]\n",
      " [ 0.27282651  0.79522613  0.075753   -0.22294599]\n",
      " [ 2.08725533 -1.59659581 -0.08779891  0.57392728]\n",
      " [ 0.78763469  0.45655117  1.54233951  0.4139384 ]\n",
      " [-0.54857481 -0.95192445  1.05077956 -0.25377822]\n",
      " [ 0.66723476  1.07358696 -0.16053443 -0.72359586]\n",
      " [ 1.11747595 -1.30870571  0.32437241  1.46545087]]\n"
     ]
    }
   ],
   "source": [
    "# randnum\n",
    "names = np.array(['kim','lee','park','choi','jung'])\n",
    "data = np.random.randn(7,4)\n",
    "print(names)\n",
    "print(data)"
   ]
  },
  {
   "cell_type": "code",
   "execution_count": 46,
   "metadata": {},
   "outputs": [
    {
     "name": "stdout",
     "output_type": "stream",
     "text": [
      "[False False False False  True]\n",
      "True\n"
     ]
    }
   ],
   "source": [
    "print(names == 'jung')\n",
    "kim_array = names=='kim'\n",
    "print(kim_array[0])"
   ]
  },
  {
   "cell_type": "code",
   "execution_count": 47,
   "metadata": {},
   "outputs": [
    {
     "ename": "IndexError",
     "evalue": "boolean index did not match indexed array along dimension 0; dimension is 7 but corresponding boolean dimension is 5",
     "output_type": "error",
     "traceback": [
      "\u001b[0;31m---------------------------------------------------------------------------\u001b[0m",
      "\u001b[0;31mIndexError\u001b[0m                                Traceback (most recent call last)",
      "\u001b[0;32m/var/folders/b7/dwjv2sgs2_s0329_m054lq800000gn/T/ipykernel_19139/1768733005.py\u001b[0m in \u001b[0;36m<module>\u001b[0;34m\u001b[0m\n\u001b[0;32m----> 1\u001b[0;31m \u001b[0mdata\u001b[0m\u001b[0;34m[\u001b[0m\u001b[0mnames\u001b[0m\u001b[0;34m==\u001b[0m\u001b[0;34m'jung'\u001b[0m\u001b[0;34m]\u001b[0m\u001b[0;34m\u001b[0m\u001b[0;34m\u001b[0m\u001b[0m\n\u001b[0m",
      "\u001b[0;31mIndexError\u001b[0m: boolean index did not match indexed array along dimension 0; dimension is 7 but corresponding boolean dimension is 5"
     ]
    }
   ],
   "source": [
    "data[names=='jung']"
   ]
  },
  {
   "cell_type": "code",
   "execution_count": 53,
   "metadata": {},
   "outputs": [
    {
     "name": "stdout",
     "output_type": "stream",
     "text": [
      "['kim' 'lee' 'park' 'choi' 'jung' 'moon' 'hwang']\n"
     ]
    }
   ],
   "source": [
    "# 일단 indexing하려는 축의 길이가 같아야함.. 그래야 위와같은 indexing error가 뜨지 않겠죠?\n",
    "names=np.append(names,np.array(['moon','hwang']))\n",
    "print(names)"
   ]
  },
  {
   "cell_type": "code",
   "execution_count": 54,
   "metadata": {},
   "outputs": [
    {
     "data": {
      "text/plain": [
       "array([[-0.54857481, -0.95192445,  1.05077956, -0.25377822]])"
      ]
     },
     "execution_count": 54,
     "metadata": {},
     "output_type": "execute_result"
    }
   ],
   "source": [
    "data[names=='jung']\n",
    "# names=='jung' 인 놈중 true값만 index로 쓰임"
   ]
  },
  {
   "cell_type": "code",
   "execution_count": 55,
   "metadata": {},
   "outputs": [
    {
     "data": {
      "text/plain": [
       "array([-0.95192445])"
      ]
     },
     "execution_count": 55,
     "metadata": {},
     "output_type": "execute_result"
    }
   ],
   "source": [
    "data[names=='jung', 1] # ㄴspecific하게 고를 수 있음"
   ]
  },
  {
   "cell_type": "code",
   "execution_count": 57,
   "metadata": {},
   "outputs": [
    {
     "data": {
      "text/plain": [
       "array([[ 1.69970331, -0.26838494,  1.09443488, -0.26114198],\n",
       "       [ 0.27282651,  0.79522613,  0.075753  , -0.22294599],\n",
       "       [ 2.08725533, -1.59659581, -0.08779891,  0.57392728],\n",
       "       [ 0.78763469,  0.45655117,  1.54233951,  0.4139384 ],\n",
       "       [ 0.66723476,  1.07358696, -0.16053443, -0.72359586],\n",
       "       [ 1.11747595, -1.30870571,  0.32437241,  1.46545087]])"
      ]
     },
     "execution_count": 57,
     "metadata": {},
     "output_type": "execute_result"
    }
   ],
   "source": [
    "# not , != & | 사용 가능\n",
    "data[~(names=='jung')] # 여기선 names=='jung'이 true 아니면 false로 나오는 binary니까 bitwise하게 생각해도됨\n",
    "# 그래서 ~이 붙은거고\n",
    "# boolean 배열에서는 and, or 같은 논리연산자(&& || !) 보다 비트연산자(& | ~)로 움직인다고 생각하자"
   ]
  },
  {
   "cell_type": "code",
   "execution_count": 58,
   "metadata": {},
   "outputs": [
    {
     "name": "stdout",
     "output_type": "stream",
     "text": [
      "[[0. 0. 0. 0. 0. 0.]\n",
      " [1. 1. 1. 1. 1. 1.]\n",
      " [2. 2. 2. 2. 2. 2.]]\n"
     ]
    }
   ],
   "source": [
    "# Fancy Indexing\n",
    "arr = np.empty((3,6))\n",
    "for i in range(3):\n",
    "    arr[i] = i\n",
    "print(arr)"
   ]
  },
  {
   "cell_type": "code",
   "execution_count": 60,
   "metadata": {},
   "outputs": [
    {
     "name": "stdout",
     "output_type": "stream",
     "text": [
      "[[0. 0. 0. 0. 0. 0.]\n",
      " [1. 1. 1. 1. 1. 1.]]\n",
      "[[1. 1. 1. 1. 1. 1.]\n",
      " [2. 2. 2. 2. 2. 2.]]\n"
     ]
    }
   ],
   "source": [
    "# if you want to select specific ordered rows just 원하는 순서가 명시된 정수가 담긴 ndarray를 넘기면 된다\n",
    "print(arr[[0,1]])\n",
    "print(arr[[1,2]])"
   ]
  },
  {
   "cell_type": "code",
   "execution_count": 66,
   "metadata": {},
   "outputs": [
    {
     "name": "stdout",
     "output_type": "stream",
     "text": [
      "[['a' 'b' 'c']\n",
      " ['g' 'h' 'i']]\n",
      "[['11' '22' '33']\n",
      " ['d' 'e' 'f']\n",
      " ['a' 'b' 'c']\n",
      " ['d' 'e' 'f']\n",
      " ['d' 'e' 'f']\n",
      " ['d' 'e' 'f']\n",
      " ['d' 'e' 'f']\n",
      " ['d' 'e' 'f']]\n"
     ]
    }
   ],
   "source": [
    "# 만약 정수가 아닌 다른 애들이면?\n",
    "test = np.array([['a','b','c'],['d','e','f'],['g','h','i'],['11','22','33']])\n",
    "print(test[[0,2]]) # 옹 되네?\n",
    "print(test[[-1,-3,0,1,1,1,1,1]]) # 신기하넹"
   ]
  },
  {
   "cell_type": "code",
   "execution_count": 67,
   "metadata": {},
   "outputs": [
    {
     "name": "stdout",
     "output_type": "stream",
     "text": [
      "[[[ 0  1  2]\n",
      "  [ 3  4  5]\n",
      "  [ 6  7  8]]\n",
      "\n",
      " [[ 9 10 11]\n",
      "  [12 13 14]\n",
      "  [15 16 17]]\n",
      "\n",
      " [[18 19 20]\n",
      "  [21 22 23]\n",
      "  [24 25 26]]\n",
      "\n",
      " [[27 28 29]\n",
      "  [30 31 32]\n",
      "  [33 34 35]]\n",
      "\n",
      " [[36 37 38]\n",
      "  [39 40 41]\n",
      "  [42 43 44]]]\n"
     ]
    }
   ],
   "source": [
    "# let's see what happens in multi indexed array\n",
    "test= np.arange(45).reshape((5,3,3))\n",
    "print(test)"
   ]
  },
  {
   "cell_type": "code",
   "execution_count": 71,
   "metadata": {},
   "outputs": [
    {
     "name": "stdout",
     "output_type": "stream",
     "text": [
      "[3 4 5]\n",
      "[[[ 0  1  2]\n",
      "  [ 3  4  5]\n",
      "  [ 6  7  8]]\n",
      "\n",
      " [[ 9 10 11]\n",
      "  [12 13 14]\n",
      "  [15 16 17]]]\n",
      "[[[ 0  1  2]\n",
      "  [ 3  4  5]\n",
      "  [ 6  7  8]]\n",
      "\n",
      " [[18 19 20]\n",
      "  [21 22 23]\n",
      "  [24 25 26]]\n",
      "\n",
      " [[36 37 38]\n",
      "  [39 40 41]\n",
      "  [42 43 44]]]\n"
     ]
    }
   ],
   "source": [
    "print(test[0,1]) # 이건 팬시 인덱싱이 아니지\n",
    "print(test[[0,1]]) # 이래야 팬시 인덱싱\n",
    "print(test[[0,2,4]])"
   ]
  },
  {
   "cell_type": "code",
   "execution_count": 73,
   "metadata": {},
   "outputs": [
    {
     "name": "stdout",
     "output_type": "stream",
     "text": [
      "[ 0 18 33 39]\n"
     ]
    }
   ],
   "source": [
    "print(test[[0,2,3,4],[0,0,2,1],[0,0,0,0]]) # 잘 따져서 봐보셈"
   ]
  },
  {
   "cell_type": "code",
   "execution_count": 75,
   "metadata": {},
   "outputs": [
    {
     "name": "stdout",
     "output_type": "stream",
     "text": [
      "[[ 0  1  2  3]\n",
      " [ 4  5  6  7]\n",
      " [ 8  9 10 11]]\n",
      "[[ 0  4  8]\n",
      " [ 1  5  9]\n",
      " [ 2  6 10]\n",
      " [ 3  7 11]]\n"
     ]
    }
   ],
   "source": [
    "# transpose 특성 정리\n",
    "A = np.arange(12).reshape(3,4)\n",
    "print(A)\n",
    "print(A.T)\n"
   ]
  },
  {
   "cell_type": "code",
   "execution_count": 77,
   "metadata": {},
   "outputs": [
    {
     "name": "stdout",
     "output_type": "stream",
     "text": [
      "[[ 0  4  8]\n",
      " [ 1  5  9]\n",
      " [ 2  6 10]\n",
      " [ 3  7 11]]\n",
      "[[ 0  4  8]\n",
      " [ 1  5  9]\n",
      " [ 2  6 10]\n",
      " [ 3  7 11]]\n"
     ]
    }
   ],
   "source": [
    "print(A.transpose())\n",
    "print(np.transpose(A))"
   ]
  },
  {
   "cell_type": "code",
   "execution_count": 80,
   "metadata": {},
   "outputs": [
    {
     "name": "stdout",
     "output_type": "stream",
     "text": [
      "[[[ 0  1  2  3]\n",
      "  [ 4  5  6  7]\n",
      "  [ 8  9 10 11]]\n",
      "\n",
      " [[12 13 14 15]\n",
      "  [16 17 18 19]\n",
      "  [20 21 22 23]]]\n",
      "(2, 3, 4)\n"
     ]
    }
   ],
   "source": [
    "AA = np.arange(24).reshape((2,3,4))\n",
    "print(AA) # 2by3by4\n",
    "print(AA.shape)"
   ]
  },
  {
   "cell_type": "code",
   "execution_count": 81,
   "metadata": {},
   "outputs": [
    {
     "name": "stdout",
     "output_type": "stream",
     "text": [
      "[[[ 0 12]\n",
      "  [ 4 16]\n",
      "  [ 8 20]]\n",
      "\n",
      " [[ 1 13]\n",
      "  [ 5 17]\n",
      "  [ 9 21]]\n",
      "\n",
      " [[ 2 14]\n",
      "  [ 6 18]\n",
      "  [10 22]]\n",
      "\n",
      " [[ 3 15]\n",
      "  [ 7 19]\n",
      "  [11 23]]]\n",
      "(4, 3, 2)\n"
     ]
    }
   ],
   "source": [
    "print(AA.T)# 4by 3by2\n",
    "print(AA.T.shape)"
   ]
  },
  {
   "cell_type": "code",
   "execution_count": 84,
   "metadata": {},
   "outputs": [
    {
     "name": "stdout",
     "output_type": "stream",
     "text": [
      "[[[ 0 12]\n",
      "  [ 1 13]\n",
      "  [ 2 14]\n",
      "  [ 3 15]]\n",
      "\n",
      " [[ 4 16]\n",
      "  [ 5 17]\n",
      "  [ 6 18]\n",
      "  [ 7 19]]\n",
      "\n",
      " [[ 8 20]\n",
      "  [ 9 21]\n",
      "  [10 22]\n",
      "  [11 23]]]\n",
      "(3, 4, 2)\n"
     ]
    }
   ],
   "source": [
    "print(AA.transpose(1,2,0)) \n",
    "print(AA.transpose(1,2,0).shape) \n",
    "# 이렇게 하면 특정한 shape의 transpose를 구할 수 있음"
   ]
  },
  {
   "cell_type": "code",
   "execution_count": 85,
   "metadata": {},
   "outputs": [
    {
     "name": "stdout",
     "output_type": "stream",
     "text": [
      "[[[ 0 12]\n",
      "  [ 1 13]\n",
      "  [ 2 14]\n",
      "  [ 3 15]]\n",
      "\n",
      " [[ 4 16]\n",
      "  [ 5 17]\n",
      "  [ 6 18]\n",
      "  [ 7 19]]\n",
      "\n",
      " [[ 8 20]\n",
      "  [ 9 21]\n",
      "  [10 22]\n",
      "  [11 23]]]\n"
     ]
    }
   ],
   "source": [
    "print(np.transpose(AA,(1,2,0))) # 이렇게 해도 상관은 없넹 "
   ]
  },
  {
   "cell_type": "code",
   "execution_count": 86,
   "metadata": {},
   "outputs": [],
   "source": [
    "# 5장 pandas 시작하기"
   ]
  },
  {
   "cell_type": "code",
   "execution_count": 87,
   "metadata": {},
   "outputs": [],
   "source": [
    "import pandas as pd # pandas는 numpy기반이긴 한데, 주로 표, 다양한 data 위주\n",
    "from pandas import Series, DataFrame"
   ]
  },
  {
   "cell_type": "code",
   "execution_count": 94,
   "metadata": {},
   "outputs": [
    {
     "name": "stdout",
     "output_type": "stream",
     "text": [
      "0    4\n",
      "1    5\n",
      "2    6\n",
      "3    7\n",
      "dtype: int64\n",
      "<class 'pandas.core.series.Series'>\n",
      "[4 5 6 7]\n",
      "<class 'numpy.ndarray'>\n",
      "4\n",
      "RangeIndex(start=0, stop=4, step=1)\n"
     ]
    }
   ],
   "source": [
    "# Series는 array랑 비슷하다고 봐도 됨\n",
    "ex = pd.Series([4,5,6,7])\n",
    "print(ex)\n",
    "print(type(ex))\n",
    "print(ex.values)\n",
    "print(type(ex.values)) # 보면 numpy의 ndarray의 형태임을 알 수 있음\n",
    "print(len(ex))\n",
    "print(ex.index) # series의 range라고 봐도 됨"
   ]
  },
  {
   "cell_type": "code",
   "execution_count": 99,
   "metadata": {},
   "outputs": [
    {
     "name": "stdout",
     "output_type": "stream",
     "text": [
      "가    4\n",
      "나    3\n",
      "다    2\n",
      "라    1\n",
      "dtype: int64\n",
      "Index(['가', '나', '다', '라'], dtype='object')\n",
      "<class 'pandas.core.indexes.base.Index'>\n",
      "(4,)\n",
      "나\n"
     ]
    }
   ],
   "source": [
    "# you can choose the index of its series\n",
    "ex2 = pd.Series([4,3,2,1], index = ['가','나','다','라'])\n",
    "print(ex2)\n",
    "print(ex2.index)\n",
    "print(type(ex2.index))\n",
    "print(ex2.index.shape)\n",
    "print(ex2.index[1])\n",
    "# 결과를 보고 유추를 해보자\n"
   ]
  },
  {
   "cell_type": "code",
   "execution_count": null,
   "metadata": {},
   "outputs": [],
   "source": []
  }
 ],
 "metadata": {
  "kernelspec": {
   "display_name": "Python 3",
   "language": "python",
   "name": "python3"
  },
  "language_info": {
   "codemirror_mode": {
    "name": "ipython",
    "version": 3
   },
   "file_extension": ".py",
   "mimetype": "text/x-python",
   "name": "python",
   "nbconvert_exporter": "python",
   "pygments_lexer": "ipython3",
   "version": "3.9.13"
  },
  "orig_nbformat": 4,
  "vscode": {
   "interpreter": {
    "hash": "31f2aee4e71d21fbe5cf8b01ff0e069b9275f58929596ceb00d14d90e3e16cd6"
   }
  }
 },
 "nbformat": 4,
 "nbformat_minor": 2
}

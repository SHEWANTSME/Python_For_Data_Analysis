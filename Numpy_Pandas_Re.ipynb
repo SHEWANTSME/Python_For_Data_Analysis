{
 "cells": [
  {
   "cell_type": "code",
   "execution_count": 10,
   "metadata": {},
   "outputs": [],
   "source": [
    "# 0207 python for data analysis study를 위한 실습 ipynb\n",
    "# 4장 <numpy 기본> 에서 알아둘 내용 정리\n",
    "import numpy as np"
   ]
  },
  {
   "cell_type": "code",
   "execution_count": 5,
   "metadata": {},
   "outputs": [
    {
     "name": "stdout",
     "output_type": "stream",
     "text": [
      "<class 'list'> <class 'numpy.ndarray'>\n",
      "[1, 2, 3, 4] [1 2 3 4]\n",
      "(4,)\n",
      "4 4\n",
      "(1, 3, 3) 3\n"
     ]
    }
   ],
   "source": [
    "# I downloaded numpy(numerical python) in version 3.9.13 \n",
    "l1 = [1,2,3,4]\n",
    "arr = np.array(l1)\n",
    "print(type(l1) , type(arr))\n",
    "print(l1 , arr)\n",
    "# numpy의 array의 type이 ndarray인 거고 실제로 define할때는 np.array 이런식으로 작성해야 한다.\n",
    "print(arr.shape ) # l1(list형)은 shape가 없다. -> shape shows the size  of the array\n",
    "# (4,) 이렇게 생긴건 1차원일때만,\n",
    "print(len(l1) , len(arr))\n",
    "ar = np.array([[[1,2,3],[4,5,6],[7,8,9]]])\n",
    "print(ar.shape , ar.ndim)"
   ]
  },
  {
   "cell_type": "code",
   "execution_count": 19,
   "metadata": {},
   "outputs": [
    {
     "name": "stdout",
     "output_type": "stream",
     "text": [
      "[ 0  1  2  3  4  5  6  7  8  9 10 11 12 13 14 15 16 17 18 19]\n",
      "[2 3 4 5 6 7 8 9]\n",
      "<class 'range'> 2\n",
      "<class 'numpy.ndarray'>\n"
     ]
    }
   ],
   "source": [
    "arr2 = np.arange(20)\n",
    "print(arr2)\n",
    "arr3 = np.arange(2,10)\n",
    "print(arr3)\n",
    "l2 = range(2,30)\n",
    "print(type(l2), l2[0])\n",
    "print(type(arr3)) # ndarray객체를 반환한다."
   ]
  },
  {
   "cell_type": "code",
   "execution_count": 25,
   "metadata": {},
   "outputs": [
    {
     "name": "stdout",
     "output_type": "stream",
     "text": [
      "[[0. 0. 0.]\n",
      " [0. 0. 0.]]\n",
      "[[[0. 0. 0. 0. 0.]\n",
      "  [0. 0. 0. 0. 0.]\n",
      "  [0. 0. 0. 0. 0.]\n",
      "  [0. 0. 0. 0. 0.]]\n",
      "\n",
      " [[0. 0. 0. 0. 0.]\n",
      "  [0. 0. 0. 0. 0.]\n",
      "  [0. 0. 0. 0. 0.]\n",
      "  [0. 0. 0. 0. 0.]]\n",
      "\n",
      " [[0. 0. 0. 0. 0.]\n",
      "  [0. 0. 0. 0. 0.]\n",
      "  [0. 0. 0. 0. 0.]\n",
      "  [0. 0. 0. 0. 0.]]]\n"
     ]
    }
   ],
   "source": [
    "print(np.zeros((2,3)))\n",
    "print(np.zeros(((3,4,5))))\n",
    "# zero들을 생성"
   ]
  },
  {
   "cell_type": "code",
   "execution_count": 33,
   "metadata": {},
   "outputs": [
    {
     "name": "stdout",
     "output_type": "stream",
     "text": [
      "[[10 10 10 10]\n",
      " [10 10 10 10]\n",
      " [10 10 10 10]]\n",
      "[[[-1 -1 -1]\n",
      "  [-1 -1 -1]\n",
      "  [-1 -1 -1]\n",
      "  [-1 -1 -1]]\n",
      "\n",
      " [[-1 -1 -1]\n",
      "  [-1 -1 -1]\n",
      "  [-1 -1 -1]\n",
      "  [-1 -1 -1]]\n",
      "\n",
      " [[-1 -1 -1]\n",
      "  [-1 -1 -1]\n",
      "  [-1 -1 -1]\n",
      "  [-1 -1 -1]]]\n"
     ]
    }
   ],
   "source": [
    "print(np.full((3,4), 10)) # 딱 보면 알거라고 생각한다.\n",
    "print(np.full(((3,4,3)), -1))"
   ]
  },
  {
   "cell_type": "code",
   "execution_count": 3,
   "metadata": {},
   "outputs": [
    {
     "name": "stdout",
     "output_type": "stream",
     "text": [
      "[[1. 0. 0.]\n",
      " [0. 1. 0.]\n",
      " [0. 0. 1.]]\n",
      "[[1. 0. 0. 0.]\n",
      " [0. 1. 0. 0.]\n",
      " [0. 0. 1. 0.]\n",
      " [0. 0. 0. 1.]]\n",
      "[[1. 0. 0. 0. 0.]\n",
      " [0. 1. 0. 0. 0.]\n",
      " [0. 0. 1. 0. 0.]\n",
      " [0. 0. 0. 1. 0.]\n",
      " [0. 0. 0. 0. 1.]]\n"
     ]
    }
   ],
   "source": [
    "print(np.eye(3))\n",
    "print(np.eye(4))\n",
    "print(np.eye(5))\n",
    "# making the 단위행렬"
   ]
  },
  {
   "cell_type": "code",
   "execution_count": 7,
   "metadata": {},
   "outputs": [
    {
     "name": "stdout",
     "output_type": "stream",
     "text": [
      "<class 'numpy.ndarray'>\n",
      "float64\n"
     ]
    }
   ],
   "source": [
    "print(type(np.zeros(3))) # np.zero 자체의 type\n",
    "print(np.zeros(3).dtype) # ndarray의 속성값의 type"
   ]
  },
  {
   "cell_type": "code",
   "execution_count": 20,
   "metadata": {},
   "outputs": [
    {
     "name": "stdout",
     "output_type": "stream",
     "text": [
      "[[1 2 3]\n",
      " [4 5 6]]\n",
      "[[ 2  4  6]\n",
      " [ 8 10 12]]\n",
      "[[ 1  4  9]\n",
      " [16 25 36]]\n",
      "[[0 0 0]\n",
      " [0 0 0]]\n",
      "[[1.         1.41421356 1.73205081]\n",
      " [2.         2.23606798 2.44948974]]\n",
      "[[ True  True False]\n",
      " [False False False]]\n"
     ]
    }
   ],
   "source": [
    "# numpy 산술연산\n",
    "arr = np.array([[1,2,3],[4,5,6]])\n",
    "print(arr)\n",
    "print(arr*2)\n",
    "print(arr*arr)\n",
    "print(arr-arr)\n",
    "print(arr**0.5)\n",
    "print(arr*2>=arr*arr) # this also returns the Boolean value"
   ]
  },
  {
   "cell_type": "code",
   "execution_count": 21,
   "metadata": {},
   "outputs": [
    {
     "name": "stdout",
     "output_type": "stream",
     "text": [
      "[ 3  4  5  6  7  8  9 10]\n",
      "[  3   4   5 121   7   8   9  10]\n"
     ]
    }
   ],
   "source": [
    "# View and Copy\n",
    "# numpy's array has the characteristic of 'view'\n",
    "arr = np.arange(3,11)\n",
    "print(arr)\n",
    "arr[3] = 121\n",
    "print(arr)"
   ]
  },
  {
   "cell_type": "code",
   "execution_count": 22,
   "metadata": {},
   "outputs": [
    {
     "name": "stdout",
     "output_type": "stream",
     "text": [
      "[-37   8   9]\n",
      "[  3   4   5 121 -37   8   9  10]\n"
     ]
    }
   ],
   "source": [
    "# 여기서 재밌는 일이 벌어진다\n",
    "ar_temp = arr[4:7]\n",
    "ar_temp[0]= -37\n",
    "print(ar_temp)\n",
    "print(arr) # 이 결과를 보면 알겠지만 \n",
    "# data는 복사되지 않고 view에 대한 변경은 그대로 원본 배열에 반영이 된다."
   ]
  },
  {
   "cell_type": "code",
   "execution_count": 23,
   "metadata": {},
   "outputs": [
    {
     "name": "stdout",
     "output_type": "stream",
     "text": [
      "[-37   8   9]\n",
      "[111 111 111]\n",
      "[  3   4   5 121 111 111 111  10]\n"
     ]
    }
   ],
   "source": [
    "# 단순히 slice를 하면 모든 값을 할당함\n",
    "print(ar_temp)\n",
    "ar_temp[:]= 111\n",
    "print(ar_temp)\n",
    "print(arr)"
   ]
  },
  {
   "cell_type": "code",
   "execution_count": 26,
   "metadata": {},
   "outputs": [
    {
     "name": "stdout",
     "output_type": "stream",
     "text": [
      "[  3   4   5 121 111 111 111]\n",
      "[ 30   4   5 121 111 111 111]\n",
      "[  3   4   5 121 111 111 111  10]\n"
     ]
    }
   ],
   "source": [
    "# copy본을 얻고 싶으면 -> .copy()를 써야한다.\n",
    "ar_new_temp = arr[:-1].copy()\n",
    "print(ar_new_temp)\n",
    "ar_new_temp[0]=30\n",
    "print(ar_new_temp)\n",
    "print(arr)"
   ]
  },
  {
   "cell_type": "code",
   "execution_count": 31,
   "metadata": {},
   "outputs": [
    {
     "name": "stdout",
     "output_type": "stream",
     "text": [
      "[[ 0. 10.  0.  0.]\n",
      " [ 0.  0.  0.  0.]\n",
      " [ 0.  0.  0.  0.]]\n",
      "[[ 0. 10. 11.  0.]\n",
      " [ 0.  0.  0.  0.]\n",
      " [ 0.  0.  0.  0.]]\n"
     ]
    }
   ],
   "source": [
    "arr2 = np.zeros((3,4))\n",
    "arr2[0][1]=10\n",
    "print(arr2)\n",
    "arr2[0,2]=11 # 이렇게 해도 상관은 없음\n",
    "print(arr2)"
   ]
  },
  {
   "cell_type": "code",
   "execution_count": 34,
   "metadata": {},
   "outputs": [],
   "source": [
    "# slicing \n",
    "arr2d =np.array([[1,2,3],[4,5,6],[7,8,9],[10,11,12]])"
   ]
  },
  {
   "cell_type": "code",
   "execution_count": 37,
   "metadata": {},
   "outputs": [
    {
     "name": "stdout",
     "output_type": "stream",
     "text": [
      "[[ 1  2  3]\n",
      " [ 4  5  6]\n",
      " [ 7  8  9]\n",
      " [10 11 12]]\n",
      "[[ 1  2  3]\n",
      " [ 4  5  6]\n",
      " [ 7  8  9]\n",
      " [10 11 12]]\n",
      "[[1 2 3]\n",
      " [4 5 6]]\n",
      "[[1 2 3]\n",
      " [4 5 6]\n",
      " [7 8 9]]\n"
     ]
    }
   ],
   "source": [
    "print(arr2d)\n",
    "print(arr2d[:])\n",
    "print(arr2d[:2])\n",
    "print(arr2d[:-1])\n",
    "# 다른점을 체크해보세요"
   ]
  },
  {
   "cell_type": "code",
   "execution_count": 42,
   "metadata": {},
   "outputs": [
    {
     "name": "stdout",
     "output_type": "stream",
     "text": [
      "[[2 3]\n",
      " [5 6]]\n",
      "[[1 2]\n",
      " [4 5]]\n",
      "[8 9]\n",
      "[[ 2  3]\n",
      " [ 5  6]\n",
      " [ 8  9]\n",
      " [11 12]]\n",
      "[ 3  6  9 12]\n"
     ]
    }
   ],
   "source": [
    "print(arr2d[:2, 1:])\n",
    "print(arr2d[:2, :-1])\n",
    "print(arr2d[2, 1:])\n",
    "print(arr2d[:, 1:])\n",
    "print(arr2d[:, -1])\n",
    "# 뭐가 어떻게 되는건지 확인해보세요"
   ]
  },
  {
   "cell_type": "code",
   "execution_count": 44,
   "metadata": {},
   "outputs": [
    {
     "name": "stdout",
     "output_type": "stream",
     "text": [
      "['kim' 'lee' 'park' 'choi' 'jung']\n",
      "[[ 1.69970331 -0.26838494  1.09443488 -0.26114198]\n",
      " [ 0.27282651  0.79522613  0.075753   -0.22294599]\n",
      " [ 2.08725533 -1.59659581 -0.08779891  0.57392728]\n",
      " [ 0.78763469  0.45655117  1.54233951  0.4139384 ]\n",
      " [-0.54857481 -0.95192445  1.05077956 -0.25377822]\n",
      " [ 0.66723476  1.07358696 -0.16053443 -0.72359586]\n",
      " [ 1.11747595 -1.30870571  0.32437241  1.46545087]]\n"
     ]
    }
   ],
   "source": [
    "# randnum\n",
    "names = np.array(['kim','lee','park','choi','jung'])\n",
    "data = np.random.randn(7,4)\n",
    "print(names)\n",
    "print(data)"
   ]
  },
  {
   "cell_type": "code",
   "execution_count": 46,
   "metadata": {},
   "outputs": [
    {
     "name": "stdout",
     "output_type": "stream",
     "text": [
      "[False False False False  True]\n",
      "True\n"
     ]
    }
   ],
   "source": [
    "print(names == 'jung')\n",
    "kim_array = names=='kim'\n",
    "print(kim_array[0])"
   ]
  },
  {
   "cell_type": "code",
   "execution_count": 47,
   "metadata": {},
   "outputs": [
    {
     "ename": "IndexError",
     "evalue": "boolean index did not match indexed array along dimension 0; dimension is 7 but corresponding boolean dimension is 5",
     "output_type": "error",
     "traceback": [
      "\u001b[0;31m---------------------------------------------------------------------------\u001b[0m",
      "\u001b[0;31mIndexError\u001b[0m                                Traceback (most recent call last)",
      "\u001b[0;32m/var/folders/b7/dwjv2sgs2_s0329_m054lq800000gn/T/ipykernel_19139/1768733005.py\u001b[0m in \u001b[0;36m<module>\u001b[0;34m\u001b[0m\n\u001b[0;32m----> 1\u001b[0;31m \u001b[0mdata\u001b[0m\u001b[0;34m[\u001b[0m\u001b[0mnames\u001b[0m\u001b[0;34m==\u001b[0m\u001b[0;34m'jung'\u001b[0m\u001b[0;34m]\u001b[0m\u001b[0;34m\u001b[0m\u001b[0;34m\u001b[0m\u001b[0m\n\u001b[0m",
      "\u001b[0;31mIndexError\u001b[0m: boolean index did not match indexed array along dimension 0; dimension is 7 but corresponding boolean dimension is 5"
     ]
    }
   ],
   "source": [
    "data[names=='jung']"
   ]
  },
  {
   "cell_type": "code",
   "execution_count": 53,
   "metadata": {},
   "outputs": [
    {
     "name": "stdout",
     "output_type": "stream",
     "text": [
      "['kim' 'lee' 'park' 'choi' 'jung' 'moon' 'hwang']\n"
     ]
    }
   ],
   "source": [
    "# 일단 indexing하려는 축의 길이가 같아야함.. 그래야 위와같은 indexing error가 뜨지 않겠죠?\n",
    "names=np.append(names,np.array(['moon','hwang']))\n",
    "print(names)"
   ]
  },
  {
   "cell_type": "code",
   "execution_count": 54,
   "metadata": {},
   "outputs": [
    {
     "data": {
      "text/plain": [
       "array([[-0.54857481, -0.95192445,  1.05077956, -0.25377822]])"
      ]
     },
     "execution_count": 54,
     "metadata": {},
     "output_type": "execute_result"
    }
   ],
   "source": [
    "data[names=='jung']\n",
    "# names=='jung' 인 놈중 true값만 index로 쓰임"
   ]
  },
  {
   "cell_type": "code",
   "execution_count": 55,
   "metadata": {},
   "outputs": [
    {
     "data": {
      "text/plain": [
       "array([-0.95192445])"
      ]
     },
     "execution_count": 55,
     "metadata": {},
     "output_type": "execute_result"
    }
   ],
   "source": [
    "data[names=='jung', 1] # ㄴspecific하게 고를 수 있음"
   ]
  },
  {
   "cell_type": "code",
   "execution_count": 57,
   "metadata": {},
   "outputs": [
    {
     "data": {
      "text/plain": [
       "array([[ 1.69970331, -0.26838494,  1.09443488, -0.26114198],\n",
       "       [ 0.27282651,  0.79522613,  0.075753  , -0.22294599],\n",
       "       [ 2.08725533, -1.59659581, -0.08779891,  0.57392728],\n",
       "       [ 0.78763469,  0.45655117,  1.54233951,  0.4139384 ],\n",
       "       [ 0.66723476,  1.07358696, -0.16053443, -0.72359586],\n",
       "       [ 1.11747595, -1.30870571,  0.32437241,  1.46545087]])"
      ]
     },
     "execution_count": 57,
     "metadata": {},
     "output_type": "execute_result"
    }
   ],
   "source": [
    "# not , != & | 사용 가능\n",
    "data[~(names=='jung')] # 여기선 names=='jung'이 true 아니면 false로 나오는 binary니까 bitwise하게 생각해도됨\n",
    "# 그래서 ~이 붙은거고\n",
    "# boolean 배열에서는 and, or 같은 논리연산자(&& || !) 보다 비트연산자(& | ~)로 움직인다고 생각하자"
   ]
  },
  {
   "cell_type": "code",
   "execution_count": 58,
   "metadata": {},
   "outputs": [
    {
     "name": "stdout",
     "output_type": "stream",
     "text": [
      "[[0. 0. 0. 0. 0. 0.]\n",
      " [1. 1. 1. 1. 1. 1.]\n",
      " [2. 2. 2. 2. 2. 2.]]\n"
     ]
    }
   ],
   "source": [
    "# Fancy Indexing\n",
    "arr = np.empty((3,6))\n",
    "for i in range(3):\n",
    "    arr[i] = i\n",
    "print(arr)"
   ]
  },
  {
   "cell_type": "code",
   "execution_count": 60,
   "metadata": {},
   "outputs": [
    {
     "name": "stdout",
     "output_type": "stream",
     "text": [
      "[[0. 0. 0. 0. 0. 0.]\n",
      " [1. 1. 1. 1. 1. 1.]]\n",
      "[[1. 1. 1. 1. 1. 1.]\n",
      " [2. 2. 2. 2. 2. 2.]]\n"
     ]
    }
   ],
   "source": [
    "# if you want to select specific ordered rows just 원하는 순서가 명시된 정수가 담긴 ndarray를 넘기면 된다\n",
    "print(arr[[0,1]])\n",
    "print(arr[[1,2]])"
   ]
  },
  {
   "cell_type": "code",
   "execution_count": 66,
   "metadata": {},
   "outputs": [
    {
     "name": "stdout",
     "output_type": "stream",
     "text": [
      "[['a' 'b' 'c']\n",
      " ['g' 'h' 'i']]\n",
      "[['11' '22' '33']\n",
      " ['d' 'e' 'f']\n",
      " ['a' 'b' 'c']\n",
      " ['d' 'e' 'f']\n",
      " ['d' 'e' 'f']\n",
      " ['d' 'e' 'f']\n",
      " ['d' 'e' 'f']\n",
      " ['d' 'e' 'f']]\n"
     ]
    }
   ],
   "source": [
    "# 만약 정수가 아닌 다른 애들이면?\n",
    "test = np.array([['a','b','c'],['d','e','f'],['g','h','i'],['11','22','33']])\n",
    "print(test[[0,2]]) # 옹 되네?\n",
    "print(test[[-1,-3,0,1,1,1,1,1]]) # 신기하넹"
   ]
  },
  {
   "cell_type": "code",
   "execution_count": 67,
   "metadata": {},
   "outputs": [
    {
     "name": "stdout",
     "output_type": "stream",
     "text": [
      "[[[ 0  1  2]\n",
      "  [ 3  4  5]\n",
      "  [ 6  7  8]]\n",
      "\n",
      " [[ 9 10 11]\n",
      "  [12 13 14]\n",
      "  [15 16 17]]\n",
      "\n",
      " [[18 19 20]\n",
      "  [21 22 23]\n",
      "  [24 25 26]]\n",
      "\n",
      " [[27 28 29]\n",
      "  [30 31 32]\n",
      "  [33 34 35]]\n",
      "\n",
      " [[36 37 38]\n",
      "  [39 40 41]\n",
      "  [42 43 44]]]\n"
     ]
    }
   ],
   "source": [
    "# let's see what happens in multi indexed array\n",
    "test= np.arange(45).reshape((5,3,3))\n",
    "print(test)"
   ]
  },
  {
   "cell_type": "code",
   "execution_count": 71,
   "metadata": {},
   "outputs": [
    {
     "name": "stdout",
     "output_type": "stream",
     "text": [
      "[3 4 5]\n",
      "[[[ 0  1  2]\n",
      "  [ 3  4  5]\n",
      "  [ 6  7  8]]\n",
      "\n",
      " [[ 9 10 11]\n",
      "  [12 13 14]\n",
      "  [15 16 17]]]\n",
      "[[[ 0  1  2]\n",
      "  [ 3  4  5]\n",
      "  [ 6  7  8]]\n",
      "\n",
      " [[18 19 20]\n",
      "  [21 22 23]\n",
      "  [24 25 26]]\n",
      "\n",
      " [[36 37 38]\n",
      "  [39 40 41]\n",
      "  [42 43 44]]]\n"
     ]
    }
   ],
   "source": [
    "print(test[0,1]) # 이건 팬시 인덱싱이 아니지\n",
    "print(test[[0,1]]) # 이래야 팬시 인덱싱\n",
    "print(test[[0,2,4]])"
   ]
  },
  {
   "cell_type": "code",
   "execution_count": 73,
   "metadata": {},
   "outputs": [
    {
     "name": "stdout",
     "output_type": "stream",
     "text": [
      "[ 0 18 33 39]\n"
     ]
    }
   ],
   "source": [
    "print(test[[0,2,3,4],[0,0,2,1],[0,0,0,0]]) # 잘 따져서 봐보셈"
   ]
  },
  {
   "cell_type": "code",
   "execution_count": 75,
   "metadata": {},
   "outputs": [
    {
     "name": "stdout",
     "output_type": "stream",
     "text": [
      "[[ 0  1  2  3]\n",
      " [ 4  5  6  7]\n",
      " [ 8  9 10 11]]\n",
      "[[ 0  4  8]\n",
      " [ 1  5  9]\n",
      " [ 2  6 10]\n",
      " [ 3  7 11]]\n"
     ]
    }
   ],
   "source": [
    "# transpose 특성 정리\n",
    "A = np.arange(12).reshape(3,4)\n",
    "print(A)\n",
    "print(A.T)\n"
   ]
  },
  {
   "cell_type": "code",
   "execution_count": 77,
   "metadata": {},
   "outputs": [
    {
     "name": "stdout",
     "output_type": "stream",
     "text": [
      "[[ 0  4  8]\n",
      " [ 1  5  9]\n",
      " [ 2  6 10]\n",
      " [ 3  7 11]]\n",
      "[[ 0  4  8]\n",
      " [ 1  5  9]\n",
      " [ 2  6 10]\n",
      " [ 3  7 11]]\n"
     ]
    }
   ],
   "source": [
    "print(A.transpose())\n",
    "print(np.transpose(A))"
   ]
  },
  {
   "cell_type": "code",
   "execution_count": 80,
   "metadata": {},
   "outputs": [
    {
     "name": "stdout",
     "output_type": "stream",
     "text": [
      "[[[ 0  1  2  3]\n",
      "  [ 4  5  6  7]\n",
      "  [ 8  9 10 11]]\n",
      "\n",
      " [[12 13 14 15]\n",
      "  [16 17 18 19]\n",
      "  [20 21 22 23]]]\n",
      "(2, 3, 4)\n"
     ]
    }
   ],
   "source": [
    "AA = np.arange(24).reshape((2,3,4))\n",
    "print(AA) # 2by3by4\n",
    "print(AA.shape)"
   ]
  },
  {
   "cell_type": "code",
   "execution_count": 81,
   "metadata": {},
   "outputs": [
    {
     "name": "stdout",
     "output_type": "stream",
     "text": [
      "[[[ 0 12]\n",
      "  [ 4 16]\n",
      "  [ 8 20]]\n",
      "\n",
      " [[ 1 13]\n",
      "  [ 5 17]\n",
      "  [ 9 21]]\n",
      "\n",
      " [[ 2 14]\n",
      "  [ 6 18]\n",
      "  [10 22]]\n",
      "\n",
      " [[ 3 15]\n",
      "  [ 7 19]\n",
      "  [11 23]]]\n",
      "(4, 3, 2)\n"
     ]
    }
   ],
   "source": [
    "print(AA.T)# 4by 3by2\n",
    "print(AA.T.shape)"
   ]
  },
  {
   "cell_type": "code",
   "execution_count": 84,
   "metadata": {},
   "outputs": [
    {
     "name": "stdout",
     "output_type": "stream",
     "text": [
      "[[[ 0 12]\n",
      "  [ 1 13]\n",
      "  [ 2 14]\n",
      "  [ 3 15]]\n",
      "\n",
      " [[ 4 16]\n",
      "  [ 5 17]\n",
      "  [ 6 18]\n",
      "  [ 7 19]]\n",
      "\n",
      " [[ 8 20]\n",
      "  [ 9 21]\n",
      "  [10 22]\n",
      "  [11 23]]]\n",
      "(3, 4, 2)\n"
     ]
    }
   ],
   "source": [
    "print(AA.transpose(1,2,0)) \n",
    "print(AA.transpose(1,2,0).shape) \n",
    "# 이렇게 하면 특정한 shape의 transpose를 구할 수 있음"
   ]
  },
  {
   "cell_type": "code",
   "execution_count": 85,
   "metadata": {},
   "outputs": [
    {
     "name": "stdout",
     "output_type": "stream",
     "text": [
      "[[[ 0 12]\n",
      "  [ 1 13]\n",
      "  [ 2 14]\n",
      "  [ 3 15]]\n",
      "\n",
      " [[ 4 16]\n",
      "  [ 5 17]\n",
      "  [ 6 18]\n",
      "  [ 7 19]]\n",
      "\n",
      " [[ 8 20]\n",
      "  [ 9 21]\n",
      "  [10 22]\n",
      "  [11 23]]]\n"
     ]
    }
   ],
   "source": [
    "print(np.transpose(AA,(1,2,0))) # 이렇게 해도 상관은 없넹 "
   ]
  },
  {
   "cell_type": "code",
   "execution_count": 86,
   "metadata": {},
   "outputs": [],
   "source": [
    "# 5장 pandas 시작하기"
   ]
  },
  {
   "cell_type": "code",
   "execution_count": 2,
   "metadata": {},
   "outputs": [],
   "source": [
    "import pandas as pd # pandas는 numpy기반이긴 한데, 주로 표, 다양한 data 위주\n",
    "from pandas import Series, DataFrame"
   ]
  },
  {
   "cell_type": "code",
   "execution_count": 3,
   "metadata": {},
   "outputs": [
    {
     "name": "stdout",
     "output_type": "stream",
     "text": [
      "0    4\n",
      "1    5\n",
      "2    6\n",
      "3    7\n",
      "dtype: int64\n",
      "<class 'pandas.core.series.Series'>\n",
      "[4 5 6 7]\n",
      "<class 'numpy.ndarray'>\n",
      "4\n",
      "RangeIndex(start=0, stop=4, step=1)\n"
     ]
    }
   ],
   "source": [
    "# Series는 array랑 비슷하다고 봐도 됨\n",
    "ex = pd.Series([4,5,6,7])\n",
    "print(ex)\n",
    "print(type(ex))\n",
    "print(ex.values)\n",
    "print(type(ex.values)) # 보면 numpy의 ndarray의 형태임을 알 수 있음\n",
    "print(len(ex))\n",
    "print(ex.index) # series의 range라고 봐도 됨"
   ]
  },
  {
   "cell_type": "code",
   "execution_count": 4,
   "metadata": {},
   "outputs": [
    {
     "name": "stdout",
     "output_type": "stream",
     "text": [
      "가    4\n",
      "나    3\n",
      "다    2\n",
      "라    1\n",
      "dtype: int64\n",
      "Index(['가', '나', '다', '라'], dtype='object')\n",
      "<class 'pandas.core.indexes.base.Index'>\n",
      "(4,)\n",
      "나\n"
     ]
    }
   ],
   "source": [
    "# you can choose the index of its series\n",
    "ex2 = pd.Series([4,3,2,1], index = ['가','나','다','라'])\n",
    "print(ex2)\n",
    "print(ex2.index)\n",
    "print(type(ex2.index))\n",
    "print(ex2.index.shape)\n",
    "print(ex2.index[1])\n",
    "# 결과를 보고 유추를 해보자\n"
   ]
  },
  {
   "cell_type": "code",
   "execution_count": 12,
   "metadata": {},
   "outputs": [
    {
     "name": "stdout",
     "output_type": "stream",
     "text": [
      "4\n",
      "2\n",
      "가    4\n",
      "나    3\n",
      "dtype: int64\n",
      "<class 'pandas.core.series.Series'>\n",
      " \n",
      "가    8\n",
      "나    6\n",
      "다    4\n",
      "라    2\n",
      "dtype: int64\n",
      " \n",
      "가    54.598150\n",
      "나    20.085537\n",
      "다     7.389056\n",
      "라     2.718282\n",
      "dtype: float64\n"
     ]
    }
   ],
   "source": [
    "# you can use index for selecting values\n",
    "print(ex2['가'])\n",
    "print(ex2['다'])\n",
    "# this kind of operation could be used in series too\n",
    "print(ex2[ex2>2])\n",
    "alpha = ex2[ex2>2]\n",
    "print(type(alpha))\n",
    "print(\" \")\n",
    "print(ex2*2)\n",
    "print(\" \")\n",
    "print(np.exp(ex2)) # e^4 , e^3 .... 이런식으로?"
   ]
  },
  {
   "cell_type": "code",
   "execution_count": 13,
   "metadata": {},
   "outputs": [
    {
     "data": {
      "text/plain": [
       "True"
      ]
     },
     "execution_count": 13,
     "metadata": {},
     "output_type": "execute_result"
    }
   ],
   "source": [
    "'가' in ex2"
   ]
  },
  {
   "cell_type": "code",
   "execution_count": 14,
   "metadata": {},
   "outputs": [
    {
     "data": {
      "text/plain": [
       "False"
      ]
     },
     "execution_count": 14,
     "metadata": {},
     "output_type": "execute_result"
    }
   ],
   "source": [
    "'j' in ex2"
   ]
  },
  {
   "cell_type": "code",
   "execution_count": 15,
   "metadata": {},
   "outputs": [
    {
     "name": "stdout",
     "output_type": "stream",
     "text": [
      "seoul    50000\n",
      "daegu    20000\n",
      "busan    35000\n",
      "ulsan    28000\n",
      "dtype: int64\n"
     ]
    }
   ],
   "source": [
    "# if dictionary is needed , you can use dict and series together\n",
    "dat = {'seoul':50000 , 'daegu':20000 , 'busan':35000 , 'ulsan':28000}\n",
    "se = pd.Series(dat)\n",
    "print(se)"
   ]
  },
  {
   "cell_type": "code",
   "execution_count": 16,
   "metadata": {},
   "outputs": [
    {
     "name": "stdout",
     "output_type": "stream",
     "text": [
      "seoul      50000.0\n",
      "daejeon        NaN\n",
      "daegu      20000.0\n",
      "incheon        NaN\n",
      "dtype: float64\n"
     ]
    }
   ],
   "source": [
    "# or you can choose an index if you want\n",
    "cities= ['seoul', 'daejeon', 'daegu', 'incheon']\n",
    "se2 = pd.Series(dat, index = cities)\n",
    "print(se2) # index와 맞지않는 value는 NaN"
   ]
  },
  {
   "cell_type": "code",
   "execution_count": 18,
   "metadata": {},
   "outputs": [
    {
     "name": "stdout",
     "output_type": "stream",
     "text": [
      "seoul      False\n",
      "daejeon     True\n",
      "daegu      False\n",
      "incheon     True\n",
      "dtype: bool\n",
      "seoul       True\n",
      "daejeon    False\n",
      "daegu       True\n",
      "incheon    False\n",
      "dtype: bool\n",
      "seoul      False\n",
      "daejeon    False\n",
      "daegu      False\n",
      "incheon    False\n",
      "dtype: bool\n"
     ]
    }
   ],
   "source": [
    "# isnull, not null 같은 애들도 있다.\n",
    "print(pd.isnull(se2))\n",
    "print(pd.notnull(se2))\n",
    "print(pd.isnull(se2) == pd.notnull(se2))\n",
    "\n"
   ]
  },
  {
   "cell_type": "code",
   "execution_count": 20,
   "metadata": {},
   "outputs": [
    {
     "name": "stdout",
     "output_type": "stream",
     "text": [
      "busan       5.0\n",
      "daegu       NaN\n",
      "daejeon     2.0\n",
      "seoul      17.0\n",
      "ulsan       NaN\n",
      "dtype: float64\n"
     ]
    }
   ],
   "source": [
    "alpha = pd.Series([6,2,3,1], index = ['seoul', 'daejeon', 'daegu','busan'])\n",
    "beta = pd.Series([0,9,4,11] , index = ['daejeon','ulsan', 'busan','seoul'])\n",
    "print(alpha + beta) # 하나라도 없는애가 나오면 Nan을 찍넹"
   ]
  },
  {
   "cell_type": "code",
   "execution_count": 21,
   "metadata": {},
   "outputs": [
    {
     "name": "stdout",
     "output_type": "stream",
     "text": [
      "cities\n",
      "seoul      6\n",
      "daejeon    2\n",
      "daegu      3\n",
      "busan      1\n",
      "Name: junny, dtype: int64\n"
     ]
    }
   ],
   "source": [
    "# series 자체와 series의 INDEX 각각 모두 이름을 가질 수 있음\n",
    "alpha.name = 'junny'\n",
    "alpha.index.name = 'cities'\n",
    "print(alpha)"
   ]
  },
  {
   "cell_type": "code",
   "execution_count": 22,
   "metadata": {},
   "outputs": [
    {
     "name": "stdout",
     "output_type": "stream",
     "text": [
      "    cities  year  pop\n",
      "0    seoul  1999  1.5\n",
      "1    daegu  2000  1.7\n",
      "2    seoul  2001  3.6\n",
      "3   yongin  2000  2.5\n",
      "4    daegu  1999  2.4\n",
      "5  incheon  2002  2.0\n",
      "6   yongin  2001  3.8\n"
     ]
    }
   ],
   "source": [
    "# Dataframe -> you can use this dataframe with\n",
    "# rows , cols can have their own indices itself\n",
    "data = {\n",
    "    'cities':['seoul','daegu', 'seoul','yongin', 'daegu','incheon','yongin'],\n",
    "    'year':[1999,2000,2001,2000,1999,2002,2001],\n",
    "    'pop':[1.5,1.7,3.6,2.5,2.4,2.0,3.8]\n",
    "    }\n",
    "frame = pd.DataFrame(data)\n",
    "print(frame)"
   ]
  },
  {
   "cell_type": "code",
   "execution_count": 24,
   "metadata": {},
   "outputs": [
    {
     "name": "stdout",
     "output_type": "stream",
     "text": [
      "   cities  year  pop\n",
      "0   seoul  1999  1.5\n",
      "1   daegu  2000  1.7\n",
      "2   seoul  2001  3.6\n",
      "3  yongin  2000  2.5\n",
      "4   daegu  1999  2.4\n"
     ]
    }
   ],
   "source": [
    "print(frame.head()) # 앞에 5개 , head안에 param 넣으면 그 숫자만큼의 rows select됨"
   ]
  },
  {
   "cell_type": "code",
   "execution_count": 25,
   "metadata": {},
   "outputs": [
    {
     "name": "stdout",
     "output_type": "stream",
     "text": [
      "   pop   cities\n",
      "0  1.5    seoul\n",
      "1  1.7    daegu\n",
      "2  3.6    seoul\n",
      "3  2.5   yongin\n",
      "4  2.4    daegu\n",
      "5  2.0  incheon\n",
      "6  3.8   yongin\n"
     ]
    }
   ],
   "source": [
    "print(pd.DataFrame(data, columns=['pop','cities'])) # column의 순서에 따른 새로운 dataframe 생성 가능 \n"
   ]
  },
  {
   "cell_type": "code",
   "execution_count": 26,
   "metadata": {},
   "outputs": [
    {
     "name": "stdout",
     "output_type": "stream",
     "text": [
      "         year   cities  pop hello_world\n",
      "alpha    1999    seoul  1.5         NaN\n",
      "beta     2000    daegu  1.7         NaN\n",
      "gamma    2001    seoul  3.6         NaN\n",
      "delta    2000   yongin  2.5         NaN\n",
      "epsilon  1999    daegu  2.4         NaN\n",
      "pi       2002  incheon  2.0         NaN\n",
      "omega    2001   yongin  3.8         NaN\n"
     ]
    }
   ],
   "source": [
    "# Series와 마찬가지로 dict에 없는 값을 넘기면 Nan\n",
    "frame2 = pd.DataFrame(data, columns=['year','cities','pop','hello_world'],\n",
    "         index=['alpha','beta','gamma','delta','epsilon','pi','omega']              \n",
    "    )\n",
    "print(frame2)"
   ]
  },
  {
   "cell_type": "code",
   "execution_count": 28,
   "metadata": {},
   "outputs": [
    {
     "name": "stdout",
     "output_type": "stream",
     "text": [
      "Index(['year', 'cities', 'pop', 'hello_world'], dtype='object')\n",
      "Index(['alpha', 'beta', 'gamma', 'delta', 'epsilon', 'pi', 'omega'], dtype='object')\n"
     ]
    }
   ],
   "source": [
    "print(frame2.columns)\n",
    "print(frame2.index)"
   ]
  },
  {
   "cell_type": "code",
   "execution_count": 30,
   "metadata": {},
   "outputs": [
    {
     "name": "stdout",
     "output_type": "stream",
     "text": [
      "alpha        seoul\n",
      "beta         daegu\n",
      "gamma        seoul\n",
      "delta       yongin\n",
      "epsilon      daegu\n",
      "pi         incheon\n",
      "omega       yongin\n",
      "Name: cities, dtype: object\n",
      "alpha      1999\n",
      "beta       2000\n",
      "gamma      2001\n",
      "delta      2000\n",
      "epsilon    1999\n",
      "pi         2002\n",
      "omega      2001\n",
      "Name: year, dtype: int64\n",
      "alpha      1999\n",
      "beta       2000\n",
      "gamma      2001\n",
      "delta      2000\n",
      "epsilon    1999\n",
      "pi         2002\n",
      "omega      2001\n",
      "Name: year, dtype: int64\n"
     ]
    }
   ],
   "source": [
    "# Series랑 비슷함 \n",
    "print(frame2['cities'])\n",
    "print(frame2.year) # frame2.column_name = frame2['column_name']\n",
    "print(frame2['year'])\n"
   ]
  },
  {
   "cell_type": "code",
   "execution_count": 35,
   "metadata": {},
   "outputs": [
    {
     "name": "stdout",
     "output_type": "stream",
     "text": [
      "year            2001\n",
      "cities         seoul\n",
      "pop              3.6\n",
      "hello_world      NaN\n",
      "Name: gamma, dtype: object\n",
      " \n",
      "year            2001\n",
      "cities         seoul\n",
      "pop              3.6\n",
      "hello_world      NaN\n",
      "Name: gamma, dtype: object\n"
     ]
    }
   ],
   "source": [
    "# when we use loc and iloc\n",
    "print(frame2.loc['gamma']) # 이놈의 index도 Index(['year', 'cities', 'pop', 'hello_world'], dtype='object') 로 나오겠징\n",
    "print(\" \")\n",
    "print(frame2.iloc[2]) # iloc가 index형태 loc가 그냥 col_name\n"
   ]
  },
  {
   "cell_type": "code",
   "execution_count": 36,
   "metadata": {},
   "outputs": [
    {
     "name": "stdout",
     "output_type": "stream",
     "text": [
      "         year   cities  pop  hello_world\n",
      "alpha    1999    seoul  1.5           90\n",
      "beta     2000    daegu  1.7           90\n",
      "gamma    2001    seoul  3.6           90\n",
      "delta    2000   yongin  2.5           90\n",
      "epsilon  1999    daegu  2.4           90\n",
      "pi       2002  incheon  2.0           90\n",
      "omega    2001   yongin  3.8           90\n"
     ]
    }
   ],
   "source": [
    "# you can put a value in column\n",
    "frame2.hello_world = 90\n",
    "print(frame2)"
   ]
  },
  {
   "cell_type": "code",
   "execution_count": 38,
   "metadata": {},
   "outputs": [
    {
     "name": "stdout",
     "output_type": "stream",
     "text": [
      "         year   cities  pop  hello_world\n",
      "alpha    1999    seoul  1.5            0\n",
      "beta     2000    daegu  1.7            1\n",
      "gamma    2001    seoul  3.6            2\n",
      "delta    2000   yongin  2.5            3\n",
      "epsilon  1999    daegu  2.4            4\n",
      "pi       2002  incheon  2.0            5\n",
      "omega    2001   yongin  3.8            6\n"
     ]
    }
   ],
   "source": [
    "frame2['hello_world'] = np.arange(len(frame2.hello_world.index))\n",
    "print(frame2) \n",
    "# 이런식으로 해도 되겠죠"
   ]
  },
  {
   "cell_type": "code",
   "execution_count": 40,
   "metadata": {},
   "outputs": [
    {
     "name": "stdout",
     "output_type": "stream",
     "text": [
      "         year   cities  pop  hello_world\n",
      "alpha    1999    seoul  1.5          NaN\n",
      "beta     2000    daegu  1.7          NaN\n",
      "gamma    2001    seoul  3.6         -1.0\n",
      "delta    2000   yongin  2.5          NaN\n",
      "epsilon  1999    daegu  2.4          NaN\n",
      "pi       2002  incheon  2.0         -8.0\n",
      "omega    2001   yongin  3.8         -3.0\n"
     ]
    }
   ],
   "source": [
    "# if you want to put a list or array to DATAFRAME\n",
    "# len(list or array) == Dataframe's len\n",
    "# if you want to put a Series -> non existing value would be replaced to Nan\n",
    "\n",
    "val = pd.Series([-1,-3,-8], index = ['gamma','omega','pi'])\n",
    "frame2.hello_world = val \n",
    "print(frame2)"
   ]
  },
  {
   "cell_type": "code",
   "execution_count": 42,
   "metadata": {},
   "outputs": [
    {
     "name": "stdout",
     "output_type": "stream",
     "text": [
      "         year   cities  pop  hello_world  new_one\n",
      "alpha    1999    seoul  1.5          NaN    False\n",
      "beta     2000    daegu  1.7          NaN    False\n",
      "gamma    2001    seoul  3.6         -1.0    False\n",
      "delta    2000   yongin  2.5          NaN     True\n",
      "epsilon  1999    daegu  2.4          NaN    False\n",
      "pi       2002  incheon  2.0         -8.0    False\n",
      "omega    2001   yongin  3.8         -3.0     True\n"
     ]
    }
   ],
   "source": [
    "# if you put an non existing column -> new column is being created.\n",
    "#frame2.new_one = frame2['cities']=='yongin' -> serWarning: Pandas doesn't allow columns to be created via a new attribute name\n",
    "frame2['new_one'] = frame2['cities']=='yongin' \n",
    "print(frame2)\n",
    "# 새로운 col 생성할때는 .형식이 아닌 기존의 [''] 방식으로 해야 하나보다."
   ]
  },
  {
   "cell_type": "code",
   "execution_count": 43,
   "metadata": {},
   "outputs": [
    {
     "name": "stdout",
     "output_type": "stream",
     "text": [
      "         year   cities  pop  hello_world\n",
      "alpha    1999    seoul  1.5          NaN\n",
      "beta     2000    daegu  1.7          NaN\n",
      "gamma    2001    seoul  3.6         -1.0\n",
      "delta    2000   yongin  2.5          NaN\n",
      "epsilon  1999    daegu  2.4          NaN\n",
      "pi       2002  incheon  2.0         -8.0\n",
      "omega    2001   yongin  3.8         -3.0\n"
     ]
    }
   ],
   "source": [
    "# you can delete a column by usin 'del' \n",
    "del frame2['new_one']\n",
    "print(frame2)"
   ]
  },
  {
   "cell_type": "code",
   "execution_count": 44,
   "metadata": {},
   "outputs": [
    {
     "name": "stdout",
     "output_type": "stream",
     "text": [
      "      seoul  daegu\n",
      "1999    1.5    2.4\n",
      "2001    3.6    NaN\n",
      "2000    NaN    1.7\n"
     ]
    }
   ],
   "source": [
    "# you can use 중첩된(nested) dict to make a new data\n",
    "pop = {'seoul':{1999:1.5 , 2001:3.6},'daegu':{1999:2.4 , 2000:1.7}}\n",
    "# 이 중첩된 dict을 DataFrame에 넘기면 바깥에 있는 dict의 key는 col이 되고 안에있는 key 는 row가된다.\n",
    "frame3 = pd.DataFrame(pop)\n",
    "print(frame3)\n",
    "# see how the nested dict works as a Dataframe!!!"
   ]
  },
  {
   "cell_type": "code",
   "execution_count": 45,
   "metadata": {},
   "outputs": [
    {
     "data": {
      "text/html": [
       "<div>\n",
       "<style scoped>\n",
       "    .dataframe tbody tr th:only-of-type {\n",
       "        vertical-align: middle;\n",
       "    }\n",
       "\n",
       "    .dataframe tbody tr th {\n",
       "        vertical-align: top;\n",
       "    }\n",
       "\n",
       "    .dataframe thead th {\n",
       "        text-align: right;\n",
       "    }\n",
       "</style>\n",
       "<table border=\"1\" class=\"dataframe\">\n",
       "  <thead>\n",
       "    <tr style=\"text-align: right;\">\n",
       "      <th></th>\n",
       "      <th>1999</th>\n",
       "      <th>2001</th>\n",
       "      <th>2000</th>\n",
       "    </tr>\n",
       "  </thead>\n",
       "  <tbody>\n",
       "    <tr>\n",
       "      <th>seoul</th>\n",
       "      <td>1.5</td>\n",
       "      <td>3.6</td>\n",
       "      <td>NaN</td>\n",
       "    </tr>\n",
       "    <tr>\n",
       "      <th>daegu</th>\n",
       "      <td>2.4</td>\n",
       "      <td>NaN</td>\n",
       "      <td>1.7</td>\n",
       "    </tr>\n",
       "  </tbody>\n",
       "</table>\n",
       "</div>"
      ],
      "text/plain": [
       "       1999  2001  2000\n",
       "seoul   1.5   3.6   NaN\n",
       "daegu   2.4   NaN   1.7"
      ]
     },
     "execution_count": 45,
     "metadata": {},
     "output_type": "execute_result"
    }
   ],
   "source": [
    "np.transpose(frame3)"
   ]
  },
  {
   "cell_type": "code",
   "execution_count": 49,
   "metadata": {},
   "outputs": [
    {
     "name": "stdout",
     "output_type": "stream",
     "text": [
      "[[1.5 2.4]\n",
      " [3.6 nan]\n",
      " [nan 1.7]]\n",
      "[[1999 'seoul' 1.5 nan]\n",
      " [2000 'daegu' 1.7 nan]\n",
      " [2001 'seoul' 3.6 -1.0]\n",
      " [2000 'yongin' 2.5 nan]\n",
      " [1999 'daegu' 2.4 nan]\n",
      " [2002 'incheon' 2.0 -8.0]\n",
      " [2001 'yongin' 3.8 -3.0]]\n",
      "Index(['alpha', 'beta', 'gamma', 'delta', 'epsilon', 'pi', 'omega'], dtype='object')\n",
      "Index(['seoul', 'daegu'], dtype='object')\n"
     ]
    }
   ],
   "source": [
    "print(frame3.values)\n",
    "print(frame2.values)\n",
    "print(frame2.index)\n",
    "print(frame3.columns)"
   ]
  },
  {
   "cell_type": "code",
   "execution_count": 51,
   "metadata": {},
   "outputs": [
    {
     "name": "stdout",
     "output_type": "stream",
     "text": [
      "Index(['o', 'p', 'q', 'r'], dtype='object')\n",
      "o    0\n",
      "p    1\n",
      "q    2\n",
      "r    3\n",
      "dtype: int64\n",
      "Index(['p', 'q', 'r'], dtype='object')\n"
     ]
    }
   ],
   "source": [
    "print(frame3.values)\n",
    "print(frame2.values)\n",
    "print(frame2.index)\n",
    "print(frame3.columns)"
   ]
  },
  {
   "cell_type": "code",
   "execution_count": 52,
   "metadata": {},
   "outputs": [
    {
     "ename": "TypeError",
     "evalue": "Index does not support mutable operations",
     "output_type": "error",
     "traceback": [
      "\u001b[0;31m---------------------------------------------------------------------------\u001b[0m",
      "\u001b[0;31mTypeError\u001b[0m                                 Traceback (most recent call last)",
      "\u001b[0;32m/var/folders/b7/dwjv2sgs2_s0329_m054lq800000gn/T/ipykernel_31376/2192560105.py\u001b[0m in \u001b[0;36m<module>\u001b[0;34m\u001b[0m\n\u001b[0;32m----> 1\u001b[0;31m \u001b[0mindex\u001b[0m\u001b[0;34m[\u001b[0m\u001b[0;36m1\u001b[0m\u001b[0;34m]\u001b[0m \u001b[0;34m=\u001b[0m \u001b[0;34m'k'\u001b[0m\u001b[0;34m\u001b[0m\u001b[0;34m\u001b[0m\u001b[0m\n\u001b[0m\u001b[1;32m      2\u001b[0m \u001b[0mprint\u001b[0m\u001b[0;34m(\u001b[0m\u001b[0mindex\u001b[0m\u001b[0;34m)\u001b[0m\u001b[0;34m\u001b[0m\u001b[0;34m\u001b[0m\u001b[0m\n",
      "\u001b[0;32m~/opt/anaconda3/lib/python3.9/site-packages/pandas/core/indexes/base.py\u001b[0m in \u001b[0;36m__setitem__\u001b[0;34m(self, key, value)\u001b[0m\n\u001b[1;32m   5033\u001b[0m     \u001b[0;34m@\u001b[0m\u001b[0mfinal\u001b[0m\u001b[0;34m\u001b[0m\u001b[0;34m\u001b[0m\u001b[0m\n\u001b[1;32m   5034\u001b[0m     \u001b[0;32mdef\u001b[0m \u001b[0m__setitem__\u001b[0m\u001b[0;34m(\u001b[0m\u001b[0mself\u001b[0m\u001b[0;34m,\u001b[0m \u001b[0mkey\u001b[0m\u001b[0;34m,\u001b[0m \u001b[0mvalue\u001b[0m\u001b[0;34m)\u001b[0m\u001b[0;34m:\u001b[0m\u001b[0;34m\u001b[0m\u001b[0;34m\u001b[0m\u001b[0m\n\u001b[0;32m-> 5035\u001b[0;31m         \u001b[0;32mraise\u001b[0m \u001b[0mTypeError\u001b[0m\u001b[0;34m(\u001b[0m\u001b[0;34m\"Index does not support mutable operations\"\u001b[0m\u001b[0;34m)\u001b[0m\u001b[0;34m\u001b[0m\u001b[0;34m\u001b[0m\u001b[0m\n\u001b[0m\u001b[1;32m   5036\u001b[0m \u001b[0;34m\u001b[0m\u001b[0m\n\u001b[1;32m   5037\u001b[0m     \u001b[0;32mdef\u001b[0m \u001b[0m__getitem__\u001b[0m\u001b[0;34m(\u001b[0m\u001b[0mself\u001b[0m\u001b[0;34m,\u001b[0m \u001b[0mkey\u001b[0m\u001b[0;34m)\u001b[0m\u001b[0;34m:\u001b[0m\u001b[0;34m\u001b[0m\u001b[0;34m\u001b[0m\u001b[0m\n",
      "\u001b[0;31mTypeError\u001b[0m: Index does not support mutable operations"
     ]
    }
   ],
   "source": [
    "index[1] = 'k' # TypeError: Index does not support mutable operations\n",
    "print(index)"
   ]
  },
  {
   "cell_type": "code",
   "execution_count": 53,
   "metadata": {},
   "outputs": [
    {
     "name": "stdout",
     "output_type": "stream",
     "text": [
      "Index(['alpha', 'alpha', 'beta', 'beta', 'beta'], dtype='object')\n"
     ]
    }
   ],
   "source": [
    "# index can have overlapped indices\n",
    "dup_labels= pd.Index(['alpha','alpha','beta','beta','beta'])\n",
    "print(dup_labels)"
   ]
  },
  {
   "cell_type": "code",
   "execution_count": 54,
   "metadata": {},
   "outputs": [
    {
     "name": "stdout",
     "output_type": "stream",
     "text": [
      "q    0\n",
      "w    3\n",
      "e   -2\n",
      "r    7\n",
      "dtype: int64\n",
      "t    NaN\n",
      "w    3.0\n",
      "e   -2.0\n",
      "q    0.0\n",
      "y    NaN\n",
      "r    7.0\n",
      "dtype: float64\n"
     ]
    }
   ],
   "source": [
    "# REINDEXING!!\n",
    "aa = pd.Series([0,3,-2,7], index = ['q','w','e','r'])\n",
    "print(aa)\n",
    "aa_reindexed = aa.reindex(['t','w','e','q','y','r'])\n",
    "print(aa_reindexed)"
   ]
  },
  {
   "cell_type": "code",
   "execution_count": 61,
   "metadata": {},
   "outputs": [
    {
     "name": "stdout",
     "output_type": "stream",
     "text": [
      "0      blue\n",
      "2       red\n",
      "4    purple\n",
      "dtype: object\n",
      "0      blue\n",
      "2       red\n",
      "4    purple\n",
      "dtype: object\n"
     ]
    }
   ],
   "source": [
    "# 시계열같은 순차적인 데이터를 reindex할때 값을 보간하거나 채워넣어야함\n",
    "# method 옵션을 활용해 가능 -> ffill을 사용해보자\n",
    "ob = pd.Series(['blue','red','purple'] , index = [0,2,4])\n",
    "print(ob)\n",
    "ob.reindex(range(6), method = 'ffill')\n",
    "print(ob)\n",
    "# this does not work as a book's example.. WTF\n",
    "#책에서는 그냥 인덱스 012345마다 0,1일땐 블루 2,3일땐 레드 4,5일땐 퍼플 이렇게 나옴.."
   ]
  },
  {
   "cell_type": "code",
   "execution_count": null,
   "metadata": {},
   "outputs": [],
   "source": [
    "# 더 추가할 내용은 ..."
   ]
  }
 ],
 "metadata": {
  "kernelspec": {
   "display_name": "Python 3",
   "language": "python",
   "name": "python3"
  },
  "language_info": {
   "codemirror_mode": {
    "name": "ipython",
    "version": 3
   },
   "file_extension": ".py",
   "mimetype": "text/x-python",
   "name": "python",
   "nbconvert_exporter": "python",
   "pygments_lexer": "ipython3",
   "version": "3.9.16"
  },
  "orig_nbformat": 4,
  "vscode": {
   "interpreter": {
    "hash": "31f2aee4e71d21fbe5cf8b01ff0e069b9275f58929596ceb00d14d90e3e16cd6"
   }
  }
 },
 "nbformat": 4,
 "nbformat_minor": 2
}

{
  "cells": [
    {
      "cell_type": "markdown",
      "metadata": {
        "colab_type": "text",
        "id": "view-in-github"
      },
      "source": [
        "<a href=\"https://colab.research.google.com/github/SHEWANTSME/Python_For_Data_Analysis/blob/main/Python_for_data_analysis_1(Basic).ipynb\" target=\"_parent\"><img src=\"https://colab.research.google.com/assets/colab-badge.svg\" alt=\"Open In Colab\"/></a>"
      ]
    },
    {
      "cell_type": "code",
      "execution_count": 22,
      "metadata": {
        "colab": {
          "base_uri": "https://localhost:8080/"
        },
        "id": "SD_qmou-i7ls",
        "outputId": "442f546d-6388-4aed-c690-4a3fd3ba1599"
      },
      "outputs": [
        {
          "name": "stdout",
          "output_type": "stream",
          "text": [
            "(4, 5, 6)\n",
            "(4, 5, 6, 7)\n",
            "(9, 0, 2, 5)\n",
            "<class 'tuple'>\n",
            "('w', 'h', 'a', 't', ' ', 't', 'h', 'e', ' ', 'f', 'u', 'c', 'k')\n",
            "('h', 'a', 't')\n",
            "((3, 4, 5), (7, 8, 9, 10)) (3, 4, 5) 4 9\n",
            "True\n",
            "('foo', [1, 2, 'shit'], True)\n",
            "(4, None, 'foo', 6, 0, 'bar')\n",
            "(4, None, 'foo', 4, None, 'foo', 4, None, 'foo')\n",
            "27\n"
          ]
        }
      ],
      "source": [
        "# Python for data analysis RESTART\n",
        "# 1. Built - in - structure\n",
        "# 1-1 튜플\n",
        "tup = (4,5,6) # tuple is immutable , fixed length\n",
        "print(tup)\n",
        "tup1 = 4,5,6,7 # can be written without parentheses\n",
        "print(tup1)\n",
        "\n",
        "# list to tuple\n",
        "lst = [9,0,2,5]\n",
        "lst_to_tup = tuple(lst)\n",
        "print(lst_to_tup)\n",
        "\n",
        "# string to tuple\n",
        "print(type(lst_to_tup))\n",
        "str_to_tup = tuple('what the fuck')\n",
        "print(str_to_tup)\n",
        "\n",
        "# indexing\n",
        "print(str_to_tup[1:4])\n",
        "\n",
        "# nested tuple\n",
        "nes_tup = (3,4,5),(7,8,9,10)\n",
        "print(nes_tup, nes_tup[0], nes_tup[0][1],nes_tup[1][2])\n",
        "\n",
        "# can be mixed with various data type\n",
        "tup = tuple(['foo', [1, 2], True])\n",
        "print(tup[2])\n",
        "# If an object inside a tuple is mutable, such as a list, you can modify it in place\n",
        "tup[1].append('shit')\n",
        "print(tup)\n",
        "\n",
        "# '+' can be used\n",
        "print((4, None, 'foo') + (6, 0) + ('bar',))\n",
        "\n",
        "# Multiplying a tuple by an integer\n",
        "print((4,None,'foo')*3)\n",
        "\n",
        "# unpacking tuples by assigning same number of variables\n",
        "ex = 4,5,(7,9)\n",
        "a,b,(c,d) = ex\n",
        "print(d+d+d)"
      ]
    },
    {
      "cell_type": "code",
      "execution_count": 31,
      "metadata": {
        "colab": {
          "base_uri": "https://localhost:8080/"
        },
        "id": "VYf53oqDMiVg",
        "outputId": "ea12993d-922b-4690-d1c5-dec994b1bdf5"
      },
      "outputs": [
        {
          "name": "stdout",
          "output_type": "stream",
          "text": [
            "22   1\n",
            "(1, 2, 3, 4, 5, 6)\n",
            "1 2 3 4 [5, 6]\n",
            "[3, 4, 5, 6]\n"
          ]
        },
        {
          "data": {
            "text/plain": [
              "6"
            ]
          },
          "execution_count": 31,
          "metadata": {},
          "output_type": "execute_result"
        }
      ],
      "source": [
        "# Python's Swap\n",
        "a,b = 1, 22\n",
        "a,b = b,a\n",
        "print(a, \" \" , b)\n",
        "\n",
        "# using *rest\n",
        "delta = 1,2,3,4,5,6\n",
        "print(delta)\n",
        "a,b,c,d,*alpha = delta\n",
        "print(a,b,c,d,alpha)\n",
        "\n",
        "# if you are not interested in the *rest -> just use _\n",
        "a,b,*_ = delta\n",
        "print(_)\n",
        "\n",
        "# you can use count() to count sth in your tuple\n",
        "a = 1,4,4,4,4,4,2,32,4,5,3\n",
        "a.count(4)\n"
      ]
    },
    {
      "cell_type": "code",
      "execution_count": 8,
      "metadata": {
        "colab": {
          "base_uri": "https://localhost:8080/"
        },
        "id": "v1kxjL06k8Vr",
        "outputId": "d60c2f95-fefe-4339-e8fb-4a7016cf0aca"
      },
      "outputs": [
        {
          "name": "stdout",
          "output_type": "stream",
          "text": [
            "range(0, 10)\n",
            "[0, 1, 2, 3, 4, 5, 6, 7, 8, 9]\n",
            "['foo', 'bar', 'baz', 'dwarf']\n",
            "['foo', 'red', 'bar', 'baz', 'dwarf']\n",
            "['foo', 'red', 'baz', 'dwarf']\n",
            "{'a': 'some value', 'b': [1, 2, 32, 4]}\n",
            "{'a': 'some value', 'b': [1, 2, 32, 4], 7: 'hello world'}\n",
            "{'a': 'some value', 'b': [1, 2, 32, 4]}\n",
            "{'b': [1, 2, 32, 4]}\n",
            "{'b': [1, 2, 32, 4], 'k': 'not happy', 'q': 'unhappy'}\n",
            "{'b': [1, 2, 32, 4], 'k': 'not happy', 'q': 'unhappy', 'r': 'fuck you', 's': 'superman'}\n"
          ]
        }
      ],
      "source": [
        "# 1-2 List\n",
        "gen = range(10) # same as range(0,10)\n",
        "print(gen)\n",
        "print(list(gen))\n",
        "\n",
        "# adding and removing elements\n",
        "b_list = ['foo', 'bar', 'baz']\n",
        "b_list.append(\"dwarf\")\n",
        "print(b_list)\n",
        "# insert can be used like this\n",
        "b_list.insert(1, \"red\")\n",
        "print(b_list)\n",
        "\n",
        "# popping element\n",
        "b_list.pop(2) # pop removes the element of list\n",
        "print(b_list) # 'baz' deleted\n",
        "\n",
        "# you can pop by using del or pop\n",
        "d1 = {\"a\": \"some value\", \"b\": [1,2,32,4]}\n",
        "print(d1)\n",
        "d1[7] = 'hello world' # you can add element by just declaring it\n",
        "print(d1)\n",
        "del(d1[7]) # you can delete element by using del\n",
        "print(d1)\n",
        "\n",
        "d1.pop(\"a\") # or just use like this\n",
        "print(d1)\n",
        "\n",
        "d1['k'] = 'not happy'\n",
        "d1['q'] = 'unhappy'\n",
        "print(d1)\n",
        "d1.update({'r':\"fuck you\", 's': 'superman'}) # if you want to update elements at once\n",
        "print(d1)"
      ]
    },
    {
      "cell_type": "markdown",
      "metadata": {
        "id": "6ba7sYbCN-5F"
      },
      "source": [
        "## Python Zip 관련 내용 정리  \n"
      ]
    },
    {
      "cell_type": "code",
      "execution_count": 41,
      "metadata": {
        "colab": {
          "base_uri": "https://localhost:8080/"
        },
        "id": "Z8vKg-RxnMB8",
        "outputId": "a40956d2-2e27-4e15-8c96-678fb7844ad2"
      },
      "outputs": [
        {
          "name": "stdout",
          "output_type": "stream",
          "text": [
            "(1, 'A')\n",
            "(2, 'B')\n",
            "(3, 'C')\n",
            " \n",
            "(1, 'A')\n",
            "(2, 'B')\n",
            "(3, 'C')\n",
            "5 A a\n",
            "6 B b\n",
            "7 C c\n",
            "8 D d\n",
            "9 E e\n",
            "[(1, 'A'), (2, 'B'), (3, 'C')]\n",
            "(1, 2, 3) ('A', 'B', 'C')\n",
            "{1: 'A', 2: 'b', 3: 'C'}\n"
          ]
        }
      ],
      "source": [
        "# zip() -> 여러개의 iterable객체를 인자로 받고, 각 객체가 담고있는 원소를 tuple형태로 차례로 접근 가능한 iterator를 반환\n",
        "# 예를 들면\n",
        "num = [1,2,3]\n",
        "let = ['A','B','C','D']\n",
        "for pair in zip(num,let):\n",
        "  print(pair) # 길이가 더 짧은 녀석을 우선으로 iterator를 실행함.\n",
        "let = let[:-1]\n",
        "print(\" \")\n",
        "\n",
        "# same code with using indexing\n",
        "for i in range(len(num)):\n",
        "  pair = (num[i], let[i])\n",
        "  print(pair)\n",
        "\n",
        "# or you can use it like this\n",
        "for num, UP,low in zip(\"56789\",\"ABCDE\",'abcde'):\n",
        "  print(num,UP,low)\n",
        "\n",
        "#for idx,num,UP,low in enumerate(zip(\"56789\",\"ABCDE\",'abcde')):\n",
        "#  print(idx,num,Up,low)\n",
        "# ValueError: not enough values to unpack (expected 4, got 2)\n",
        "\n",
        "# you can unzip through this method\n",
        "num=(1,2,3)\n",
        "let = (\"A\",\"B\",\"C\")\n",
        "pairs = list(zip(num,let)) # list를 써야 unpack이 가능함 (container type의 data's unpacking)\n",
        "print(pairs)\n",
        "nums,lets = zip(*pairs)\n",
        "print(nums,lets)\n",
        "\n",
        "# dict에서도  사용 가능\n",
        "keys = [1,2,3]\n",
        "values = [\"A\",\"b\",'C']\n",
        "print(dict(zip(keys,values)))"
      ]
    },
    {
      "cell_type": "markdown",
      "metadata": {
        "id": "o-rpRBPcHaER"
      },
      "source": [
        "### Python's Asterisk\n",
        "1. 곱셈, 거듭제곱의 연산  \n",
        "2. list형 container type의 data를 확장할 때  \n",
        "3. 가변인자(variadic Parameters)를 사용할 때  \n",
        "  * positional argument만 받을 떄  \n",
        "  * keyword argument만 받을 때  \n",
        "  * 둘 다 받을 때  \n",
        "4. Container type의 data를 unpacking할 때  \n"
      ]
    },
    {
      "cell_type": "code",
      "execution_count": 18,
      "metadata": {
        "colab": {
          "base_uri": "https://localhost:8080/"
        },
        "id": "5g7O2ujYEiDq",
        "outputId": "2d1572b0-cd7f-4106-9d05-bf2d60999f7d"
      },
      "outputs": [
        {
          "name": "stdout",
          "output_type": "stream",
          "text": [
            "6\n",
            "8\n"
          ]
        }
      ],
      "source": [
        "#1.\n",
        "print(2*3)# = 2*3 = 6\n",
        "print(2**3)# 2^3 = 8"
      ]
    },
    {
      "cell_type": "code",
      "execution_count": 19,
      "metadata": {
        "colab": {
          "base_uri": "https://localhost:8080/"
        },
        "id": "eZWpXHQVH_pX",
        "outputId": "3ed136a0-debe-455b-fa9b-57414a8684e4"
      },
      "outputs": [
        {
          "name": "stdout",
          "output_type": "stream",
          "text": [
            "1 scalar product of vector: [1, 2, 3]\n",
            "2 scalar product of vector: [2, 4, 6]\n",
            "3 scalar product of vector: [3, 6, 9]\n"
          ]
        }
      ],
      "source": [
        "#2.\n",
        "zero_list = [0]*100 # length 100의 zero value list 초기화\n",
        "zero_tup = (0,)*100 # length 100의 zero value tuple 초기화\n",
        "vec_list = [[1,2,3]]\n",
        "for i ,vec in enumerate(vec_list*3):\n",
        "  print(f'{(i+1)} scalar product of vector: {[(i+1)*e for e in vec]}')"
      ]
    },
    {
      "cell_type": "code",
      "execution_count": 20,
      "metadata": {
        "colab": {
          "base_uri": "https://localhost:8080/"
        },
        "id": "vEq2CMUBI62p",
        "outputId": "5077604f-85ab-4d4d-8625-71488a63da41"
      },
      "outputs": [
        {
          "name": "stdout",
          "output_type": "stream",
          "text": [
            "1 scalar product of vector: [1, 2, 3]\n",
            "2 scalar product of vector: [2, 4, 6]\n",
            "3 scalar product of vector: [3, 6, 9]\n"
          ]
        }
      ],
      "source": [
        "#2.\n",
        "zero_list = [0]*100 # length 100의 zero value list 초기화\n",
        "zero_tup = (0,)*100 # length 100의 zero value tuple 초기화\n",
        "vec_list = [[1,2,3],[1,2,3],[1,2,3]]\n",
        "# 이렇게 써도 된당\n",
        "for i ,vec in enumerate(vec_list):\n",
        "  print(f'{(i+1)} scalar product of vector: {[(i+1)*e for e in vec]}')"
      ]
    },
    {
      "cell_type": "code",
      "execution_count": 42,
      "metadata": {
        "colab": {
          "base_uri": "https://localhost:8080/"
        },
        "id": "djJyMFHiJJAc",
        "outputId": "2fad29b3-14e7-46a5-f5c9-cb31c849a03d"
      },
      "outputs": [
        {
          "name": "stdout",
          "output_type": "stream",
          "text": [
            "[[1, 2, 3], [1, 2, 3], [1, 2, 3]]\n",
            "1\n",
            "4\n",
            "7\n",
            "0   alpha\n",
            "0   alpha\n",
            "1   beta\n",
            "1   beta\n",
            "2   gamma\n",
            "2   gamma\n",
            "3   delta\n",
            "3   delta\n",
            "0   alpha\n",
            "1   beta\n",
            "2   gamma\n",
            "3   delta\n",
            "0   alpha\n",
            "1   beta\n",
            "2   gamma\n",
            "3   delta\n"
          ]
        }
      ],
      "source": [
        "#2.1\n",
        "temp = [[1,2,3]]\n",
        "print(temp*3) # [[1, 2, 3], [1, 2, 3], [1, 2, 3]]\n",
        "\n",
        "for i in range(1,10,3):\n",
        "  print(i)\n",
        "# 1\n",
        "# 4\n",
        "# 7\n",
        "\n",
        "# 보통 이렇게 씀\n",
        "tup = ('alpha','beta','gamma','delta')\n",
        "for idx, val in enumerate(tup):\n",
        "  print(idx, \" \", val)\n",
        "  print(tup.index(val), \" \" ,val) # 튜플도 이렇게 써도 되는구나\n",
        "\n",
        "# list 일때도 사용 가능\n",
        "lis = list(tup)\n",
        "for idx, val in enumerate(lis):\n",
        "  print(idx, \" \", val)\n",
        "\n",
        "# list일때는 이렇게 써도 됨\n",
        "for i in lis:\n",
        "  print(lis.index(i),\" \", i)\n"
      ]
    },
    {
      "cell_type": "markdown",
      "metadata": {
        "id": "UWIjKN86QE-E"
      },
      "source": [
        "###3. 가변인자 (Variadic Parameters)를 사용하고자 할 때\n",
        " * 가변인자는 언제 사용하는가?  \n",
        "  -> parameter의 갯수를 모를 때  \n",
        "  -> parameter가 존나게 많아서 다 적기 빡셀 때  \n",
        "\n",
        "1. Positional argument : 위치에 따라 정해지는 인자  \n",
        "2. Keyword argument : 이름을 가진 인자   \n",
        "\n"
      ]
    },
    {
      "cell_type": "code",
      "execution_count": 46,
      "metadata": {
        "colab": {
          "base_uri": "https://localhost:8080/"
        },
        "id": "lIW-_2r7Lf1g",
        "outputId": "12823cc7-c35c-457f-88ae-c482ff7c15e5"
      },
      "outputs": [
        {
          "name": "stdout",
          "output_type": "stream",
          "text": [
            "{1: 'june', 2: 'jinny', 3: 'Nobody', 4: 'Nobody'}\n",
            "{1: 'june', 2: 'kenny', 3: 'donald', 4: 'Nobody'}\n",
            "{1: 'june', 2: 'kenny', 3: 'donald', 4: 'trump'}\n"
          ]
        }
      ],
      "source": [
        "#3.가변인자 (Variadic Parameters)를 사용하고자 할 때\n",
        "def save_rank(fir,sec,thir=None, four=None):\n",
        "  rank={}\n",
        "  rank[1],rank[2]=fir,sec\n",
        "  rank[3]=thir if thir is not None else 'Nobody'\n",
        "  rank[4]=four if four is not None else 'Nobody'\n",
        "  print(rank)\n",
        "\n",
        "# positional arg 2개 전달\n",
        "save_rank('june','jinny')\n",
        "# positional arg 2개 전달 + keyword arg 1개\n",
        "save_rank('june','kenny',thir='donald')\n",
        "# pos 2 , key 2\n",
        "save_rank('june','kenny',thir='donald',four='trump')\n",
        "# you can omit thir=, four ="
      ]
    },
    {
      "cell_type": "markdown",
      "metadata": {
        "id": "4gvPPlFsSFEx"
      },
      "source": [
        "위의 함수 `save_rank`는 두개의 pos_arg를 받으며(fir,sec) , 두개의 key_arg를 받는다(thir,four)  \n",
        "\n",
        "-----------\n",
        "* pos arg 특징  \n",
        "1. 생략 불가 -> 정해진 갯수만큼 정해진 위치에 parameter전달해야함  \n",
        "\n",
        "* key arg 특징  \n",
        "1. 생략 가능 -> 함수 선언시 default값 설정 가능  -> 생략할 경우 default값이 parameter값으로 들어감  \n",
        "2. key arg는 생략이 가능해서 pos arg 이전에 선언될 수 없다.-> 다음과 같은 경우는 안된다  \n",
        "\n",
        "ex) 아래의 경우는 Error 발생한다.  \n",
        "```python\n",
        "  def save_rank(fir,sec=None,thir,four=None):\n",
        "    ....\n",
        "```"
      ]
    },
    {
      "cell_type": "code",
      "execution_count": 47,
      "metadata": {
        "colab": {
          "base_uri": "https://localhost:8080/"
        },
        "id": "U_CqUQhQSBp8",
        "outputId": "44055add-5412-4c04-eb18-bfc8ea6f009a"
      },
      "outputs": [
        {
          "name": "stdout",
          "output_type": "stream",
          "text": [
            "('hello', 'world', 'my', 'name', 'is', 'june', 'nice', 'to', 'meet', 3.141592)\n"
          ]
        }
      ],
      "source": [
        "# 정해지지 않은 갯수의 parameter를 받을 때, pos arg와 key arg는 다음과 같이 받을 수 있다.\n",
        "\n",
        "# pos_arg만 받을 때\n",
        "def save_rank(*args):\n",
        "  print(args)\n",
        "save_rank('hello','world','my','name','is','june','nice','to','meet',3.141592)\n",
        "\n",
        "# pos_arg를 받을 떄는 tuple로 return"
      ]
    },
    {
      "cell_type": "code",
      "execution_count": 48,
      "metadata": {
        "colab": {
          "base_uri": "https://localhost:8080/"
        },
        "id": "f-wdiyklWxiN",
        "outputId": "5c16b3e1-f484-45b4-9406-af7e39cac3ed"
      },
      "outputs": [
        {
          "name": "stdout",
          "output_type": "stream",
          "text": [
            "{'fir': 'hello', 'sec': 'world', 'thir': 'my', 'four': 'name', 'fif': 'is', 'six': 'june', 'sev': 'nice', 'eig': 'to', 'nin': 'meet', 'ten': 3.141592}\n"
          ]
        }
      ],
      "source": [
        "# key_arg만 받을 때\n",
        "def save_rank(**kwargs):\n",
        "  print(kwargs)\n",
        "save_rank(fir='hello',sec='world',thir='my',four='name',fif='is',six='june',sev='nice',eig='to',nin='meet',ten=3.141592)\n",
        "\n",
        "# key_arg로 받을 때는 dict로 return"
      ]
    },
    {
      "cell_type": "code",
      "execution_count": 49,
      "metadata": {
        "colab": {
          "base_uri": "https://localhost:8080/"
        },
        "id": "a0YVsTL2XeG9",
        "outputId": "ae0fff4b-bc63-4a2a-8a76-040c24341a1f"
      },
      "outputs": [
        {
          "name": "stdout",
          "output_type": "stream",
          "text": [
            "('what', 'the', 34, 21)\n",
            "{'delta': 'wilson', 'alpha': 3.14}\n"
          ]
        }
      ],
      "source": [
        "def save_rank(*args, **kwargs):\n",
        "  print(args)\n",
        "  print(kwargs)\n",
        "save_rank('what','the',34,21,delta='wilson',alpha=3.14)\n",
        "\n",
        "# 이 때 *args, **kwargs 형태로 가변인자를 받는걸 packing이라 함\n",
        "# pos_arg가 항상 key_arg보다 먼저 나오기 때문에\n",
        "# def save_rank(**kwarg, *arg): => 이건 error임!"
      ]
    },
    {
      "cell_type": "markdown",
      "metadata": {
        "id": "1ZDKxWMiYKiL"
      },
      "source": [
        "###4. 컨테이너 타입의 data를 unpacking 할 때  \n",
        "ex) 다음과 같이 우리가 list나 tuple 또는 dict 형태의 데이터를 가지고 있고 어떤 함수가 가변인자를 받는 경우에 사용할 수 있다.  "
      ]
    },
    {
      "cell_type": "code",
      "execution_count": 52,
      "metadata": {
        "colab": {
          "base_uri": "https://localhost:8080/"
        },
        "id": "L_XaORl_dABP",
        "outputId": "b7e373d3-045b-4737-8010-601e1c0ab795"
      },
      "outputs": [
        {
          "name": "stdout",
          "output_type": "stream",
          "text": [
            "30030\n",
            "[2, 3, 5, 7, 11, 13]\n"
          ]
        }
      ],
      "source": [
        "from functools import reduce\n",
        "primes = [2,3,5,7,11,13]\n",
        "def product(*nums):\n",
        "  p = reduce(lambda x,y: x*y, nums)\n",
        "  return p\n",
        "print(product(*primes))\n",
        "print(product(primes))"
      ]
    },
    {
      "cell_type": "markdown",
      "metadata": {
        "id": "XzKKtvijeuQ8"
      },
      "source": [
        "여기서 저 둘의 차이를 잘 알아야 하는데,  \n",
        "```python\n",
        "from functools import reduce\n",
        "lis = list(range(1,21))\n",
        "print(reduce(lambda x,y:x+y, lis)) # 210 출력\n",
        "```\n",
        "여기선\n",
        "```가변인자```를 쓰지 않고 바로 ```reduce```함수를 사용했으므로, unpacking이 필요가 없지만, ```가변인자```를 사용할 때는, list의 데이터를 모두 unpacking하여 함수에 전달해야 한다.  \n",
        "\n",
        "```python\n",
        "from functools import reduce\n",
        "primes = [2,3,5,7,11,13]\n",
        "def product(*nums):\n",
        "  p = reduce(lambda x,y: x*y, nums)\n",
        "  return p\n",
        "print(product(*primes))\n",
        "print(product(primes))\n",
        "\n",
        "```\n",
        "#### -> 이 경우 , 함수에 값을 전달할 때 `*primes`와 같이 전달하면 **`primes`리스트의 모든 값들이 unpacking되어** nums라는 리스트에 저장이 된다. 하지만 , `*primes`로 전달하는것이 아닌, `primes`로 전달하게 되면 `primes`자체가 하나의 값으로 쓰여 nums라는 리스트에는 `primes`라는 원소 하나만 존재하게 된다!..  \n",
        "\n",
        "tuple도 list처럼 동작하고, dict는 **를 붙혀준다."
      ]
    },
    {
      "cell_type": "code",
      "execution_count": 58,
      "metadata": {
        "colab": {
          "base_uri": "https://localhost:8080/",
          "height": 349
        },
        "id": "4v00ga2ehSbS",
        "outputId": "1d56ecfb-d574-4e29-c672-db245093eb47"
      },
      "outputs": [
        {
          "name": "stdout",
          "output_type": "stream",
          "text": [
            "dict's length :  3\n"
          ]
        },
        {
          "ename": "ValueError",
          "evalue": "배고푸당",
          "output_type": "error",
          "traceback": [
            "\u001b[0;31m---------------------------------------------------------------------------\u001b[0m",
            "\u001b[0;31mValueError\u001b[0m                                Traceback (most recent call last)",
            "\u001b[0;32m<ipython-input-58-97ffc6680149>\u001b[0m in \u001b[0;36m<cell line: 8>\u001b[0;34m()\u001b[0m\n\u001b[1;32m      6\u001b[0m   \u001b[0;32mif\u001b[0m \u001b[0;34m'delta'\u001b[0m \u001b[0;32mnot\u001b[0m \u001b[0;32min\u001b[0m \u001b[0mwrong\u001b[0m\u001b[0;34m:\u001b[0m\u001b[0;34m\u001b[0m\u001b[0;34m\u001b[0m\u001b[0m\n\u001b[1;32m      7\u001b[0m     \u001b[0;32mraise\u001b[0m \u001b[0mValueError\u001b[0m\u001b[0;34m(\u001b[0m\u001b[0;34m\"배고푸당\"\u001b[0m\u001b[0;34m)\u001b[0m\u001b[0;34m\u001b[0m\u001b[0;34m\u001b[0m\u001b[0m\n\u001b[0;32m----> 8\u001b[0;31m \u001b[0mfunc\u001b[0m\u001b[0;34m(\u001b[0m\u001b[0;34m**\u001b[0m\u001b[0mheaders\u001b[0m\u001b[0;34m)\u001b[0m\u001b[0;34m\u001b[0m\u001b[0;34m\u001b[0m\u001b[0m\n\u001b[0m\u001b[1;32m      9\u001b[0m \u001b[0;34m\u001b[0m\u001b[0m\n\u001b[1;32m     10\u001b[0m \u001b[0;31m# 위의 headers dict는 positional argument를 사용할 수 없음.. 위와같이 뭔 내용이 있는 dict는\u001b[0m\u001b[0;34m\u001b[0m\u001b[0;34m\u001b[0m\u001b[0m\n",
            "\u001b[0;32m<ipython-input-58-97ffc6680149>\u001b[0m in \u001b[0;36mfunc\u001b[0;34m(**headers)\u001b[0m\n\u001b[1;32m      5\u001b[0m   \u001b[0mwrong\u001b[0m \u001b[0;34m=\u001b[0m \u001b[0mheaders\u001b[0m\u001b[0;34m[\u001b[0m\u001b[0;34m'틀렸습니다'\u001b[0m\u001b[0;34m]\u001b[0m\u001b[0;34m\u001b[0m\u001b[0;34m\u001b[0m\u001b[0m\n\u001b[1;32m      6\u001b[0m   \u001b[0;32mif\u001b[0m \u001b[0;34m'delta'\u001b[0m \u001b[0;32mnot\u001b[0m \u001b[0;32min\u001b[0m \u001b[0mwrong\u001b[0m\u001b[0;34m:\u001b[0m\u001b[0;34m\u001b[0m\u001b[0;34m\u001b[0m\u001b[0m\n\u001b[0;32m----> 7\u001b[0;31m     \u001b[0;32mraise\u001b[0m \u001b[0mValueError\u001b[0m\u001b[0;34m(\u001b[0m\u001b[0;34m\"배고푸당\"\u001b[0m\u001b[0;34m)\u001b[0m\u001b[0;34m\u001b[0m\u001b[0;34m\u001b[0m\u001b[0m\n\u001b[0m\u001b[1;32m      8\u001b[0m \u001b[0mfunc\u001b[0m\u001b[0;34m(\u001b[0m\u001b[0;34m**\u001b[0m\u001b[0mheaders\u001b[0m\u001b[0;34m)\u001b[0m\u001b[0;34m\u001b[0m\u001b[0;34m\u001b[0m\u001b[0m\n\u001b[1;32m      9\u001b[0m \u001b[0;34m\u001b[0m\u001b[0m\n",
            "\u001b[0;31mValueError\u001b[0m: 배고푸당"
          ]
        }
      ],
      "source": [
        "headers={'맞았습니다!' : 100, '부분적으로 맞았습니다': 80, '틀렸습니다':'alphabet'}\n",
        "def func(**headers):\n",
        "  dic_len = len(headers)\n",
        "  print(\"dict's length : \",dic_len)\n",
        "  wrong = headers['틀렸습니다']\n",
        "  if 'delta' not in wrong:\n",
        "    raise ValueError(\"배고푸당\")\n",
        "func(**headers)\n",
        "\n",
        "# 위의 headers dict는 positional argument를 사용할 수 없음.. 위와같이 뭔 내용이 있는 dict는\n",
        "# 그래서 keyword argument를 사용하는거임"
      ]
    },
    {
      "cell_type": "code",
      "execution_count": 69,
      "metadata": {
        "colab": {
          "base_uri": "https://localhost:8080/"
        },
        "id": "pfC7LnL8jdeI",
        "outputId": "b9a9902e-5c2b-44d1-afe6-9770942b41a4"
      },
      "outputs": [
        {
          "name": "stdout",
          "output_type": "stream",
          "text": [
            "[1, 3, 4, 2, 5, 6]\n",
            "[1, 3, 4, 2, 5]   6\n",
            "1   [3, 4, 2, 5, 6]\n",
            "1   [3, 4, 2, 5]   6\n",
            "(1, 3, 4, 2, 5, 6)\n",
            "1 3\n"
          ]
        }
      ],
      "source": [
        "# 아래와 같은 unpacking technique도 존재한다.\n",
        "nums = [1,3,4,2,5,6]\n",
        "*a,=nums # 그냥 *a, 만 쓰면 list로 반환함!\n",
        "print(a)#[1, 3, 4, 2, 5, 6]\n",
        "\n",
        "*a,b= nums\n",
        "print(a,\" \",b)#[1, 3, 4, 2, 5]   6\n",
        "\n",
        "a,*b= nums\n",
        "print(a,\" \",b)# 1   [3, 4, 2, 5, 6]\n",
        "\n",
        "a,*b,c=nums\n",
        "print(a,\" \",b,\" \",c)#1   [3, 4, 2, 5]   6\n",
        "\n",
        "tup =tuple(nums)\n",
        "print(tup)# (1, 3, 4, 2, 5, 6)\n",
        "aa,bb,*_= tup\n",
        "print(aa,bb)# 1 3"
      ]
    },
    {
      "cell_type": "markdown",
      "metadata": {
        "id": "NcIsppLBJlTj"
      },
      "source": [
        "--------------\n",
        "## Range  \n",
        " -> range(시작숫자, 종료숫자, step)의 형태  \n",
        " -> list's slicing과 유사함  \n",
        " -> 시작숫자랑 step은 생략 가능  \n",
        " -> 근데 step에 음수는 못씀..  \n",
        " ![image](https://github.com/SHEWANTSME/NOVEMBER/assets/91362178/4f9cbd7c-67b8-4311-b502-4207277ebbf7)  \n",
        " ![image](https://github.com/SHEWANTSME/NOVEMBER/assets/91362178/d14536a3-2602-425e-9af0-3624fed77604)\n",
        "\n"
      ]
    },
    {
      "cell_type": "markdown",
      "metadata": {
        "id": "Am7u-gaJrCos"
      },
      "source": [
        "-------------\n",
        "### I. Reduce함수란?\n",
        "-> ```반복 가능한 객체(iterable object)``` 내 각 요소를 연산한 뒤 이전 연산 결과들과 누적해서 반환해 주는 함수  \n",
        "-> 내장함수가 아니라서 functools에서 import 해줘야함  \n",
        "```python\n",
        "from functools import reduce\n",
        "```\n",
        "ex) list에 1부터 20까지 정수를 담고 total_sum을 구하시오  \n",
        "1. without using reduce   \n",
        "```python\n",
        "def tot_sum(x,y):  \n",
        "      return x+y\n",
        "lis = list(range(1,21)\n",
        "res=0\n",
        "for i in lis:\n",
        "      res = tot_sum(res,i)\n",
        "print(res) # 210 출력\n",
        "```\n",
        "2. using reduce  \n",
        "```python\n",
        "from functools import reduce\n",
        "def tot_sum(x,y):\n",
        "      return x+y\n",
        "lis = list(range(1,21))\n",
        "print(reduce(tot_sum,lis)) # 210 출력\n",
        "```\n",
        "아래 그림을 보면 reduce가 어떻게 진행되는질 알 수 있다.  \n",
        "![image](https://github.com/SHEWANTSME/NOVEMBER/assets/91362178/2628dec3-9c6b-4113-b421-d805d8a5235e)\n",
        "\n",
        "아싸리 이런 간단한건 lambda함수를 써서 하면 편하다.  \n",
        "3. using reduce with lambda func  \n",
        "```python\n",
        "from functools import reduce\n",
        "lis = list(range(1,21))\n",
        "print(reduce(lambda x,y:x+y, lis)) # 210 출력\n",
        "```"
      ]
    },
    {
      "cell_type": "markdown",
      "metadata": {
        "id": "dBFKa6RfrJb3"
      },
      "source": [
        "### II. map함수란?  \n",
        "-> map 함수는 `반복 가능한 객체(iterable object)`를 입력받고 각 요소에 연산을 수행`(맵핑, mapping)`하는 함수  \n",
        "-> 얘는 내장함수라서 reduce처럼 functools 안불러와도됨  \n",
        "\n",
        "list에 1~10까지 정수 있을 때, 각 요소별 제곱값 저장하는 코드  \n",
        "1. map함수 사용하지 않은 코드  \n",
        "```python\n",
        "def square_func(n):\n",
        "      return n**2\n",
        "lis = list(range(1,11))\n",
        "res=[]\n",
        "for i in lis:\n",
        "      res.append(square_func(i))\n",
        "print(res)# 실행 결과: [1, 4, 9, 16, 25, 36, 49, 64, 81, 100]\n",
        "```\n",
        "\n",
        "2. map 사용한 코드  \n",
        "```python  \n",
        "def square_func(n):\n",
        "      return n**2\n",
        "lis=list(range(1,11))\n",
        "res=list(map(square_func,lis))\n",
        "print(res)# 실행 결과: [1, 4, 9, 16, 25, 36, 49, 64, 81, 100]\n",
        "```\n",
        "### -> 이게 cpp처럼 함수를 짜면 안됨, cpp처럼 짜면 1번 코드처럼 나오는데, 1번 코드방식을 지양하고 2번코드처럼 개별 요소에 대한 함수를 짜면, **전체적인 iterable한 객체에 대한 결과값은 map으로 이어준다고 생각해야함**  \n",
        "\n",
        "\n",
        "3. lambda + map  \n",
        "```python\n",
        "lis = list(range(1,11))\n",
        "res= list(map(lambda x:x**2,lis))\n",
        "print(res) # 실행 결과: [1, 4, 9, 16, 25, 36, 49, 64, 81, 100]\n",
        "\n",
        "```"
      ]
    },
    {
      "cell_type": "markdown",
      "metadata": {
        "id": "5DrP_Z3atb0k"
      },
      "source": [
        "### III. Filter함수란?  \n",
        "-> `반복 가능한 객체`에서 `특정 조건에 참인 요소에만` 연산을 수행하는 함수  \n",
        "-> `반복 가능한 객체` : 반복이 가능한 객체로서 요소가 하나의 객체에 여러 개가 들어있고, 한 번에 하나의 요소씩 사용할 수 있는 객체  ex) `string`, `list`, `dict`, `set`  \n",
        "-> map이랑 사용법은 같은데, 결과값이 참인지 거짓인지에 따라 해당 값을 연산에 포함시킬지 말지 결정  \n",
        "\n",
        "ex) 리스트에 1부터 20까지의 정수가 담겼을 때 홀수만 따로 리스트에 저장하여 출력하는 코드를 작성  \n",
        "\n",
        "1. filter 사용 x  \n",
        "```python\n",
        "def isodd(n):\n",
        "  return True if n%2 != 0 else False\n",
        "lis = list(range(1,11))\n",
        "res=[]\n",
        "for val in lis:\n",
        "  if isodd(val):\n",
        "    res.append(val)\n",
        "print(res)# 실행 결과: [1, 3, 5, 7, 9, 11, 13, 15, 17, 19]\n",
        "```  \n",
        "\n",
        "2. filter 사용 O  \n",
        "```python\n",
        "def isodd(n):\n",
        "  return True if n%2!=0 else False\n",
        "lis= list(range(1,11))\n",
        "res= list(filter(isodd,lis))\n",
        "print(res)# 실행 결과: [1, 3, 5, 7, 9, 11, 13, 15, 17, 19]\n",
        "```\n",
        "\n",
        "3. lambda + filter  \n",
        "```python\n",
        "lis = list(range(1,11))\n",
        "print(list(filter(lambda x:x%2!=0,lis)))\n",
        "```\n",
        "\n"
      ]
    },
    {
      "cell_type": "code",
      "execution_count": 77,
      "metadata": {
        "colab": {
          "base_uri": "https://localhost:8080/"
        },
        "id": "GF4UNLSorJNG",
        "outputId": "9ab6a6f0-0b2d-4d5f-dc9f-5835f64935ee"
      },
      "outputs": [
        {
          "name": "stdout",
          "output_type": "stream",
          "text": [
            "[1, 3, 5, 7, 9]\n"
          ]
        }
      ],
      "source": [
        "lis = list(range(1,11))\n",
        "print(list(filter(lambda x:x%2!=0,lis)))"
      ]
    },
    {
      "cell_type": "markdown",
      "metadata": {
        "id": "6UkkL-tCwpYB"
      },
      "source": [
        "### IV. lambda함수란?  \n",
        "-> 익명함수 -> 간단한 함수일때 사용  \n",
        "```python\n",
        "# 공식 구문\n",
        "lambda p1,p2 : expression\n",
        "# p1,p2는 lambda func에 들어가는 parameter,\n",
        "# expression엔 넣고픈 함수 넣으면됨  \n",
        "```\n",
        "ex)  \n",
        "```python\n",
        "add= lambda x,y : x+y\n",
        "print(add(4,5))# 9\n",
        "```\n",
        "```python\n",
        "strr= 'hello fucking world assholes'\n",
        "print(lambda x:print(x))\n",
        "# <function <lambda> at 0x00000185C3BF81E0>\n",
        "# ?? 틀린 결과값  \n",
        "```\n",
        "```python\n",
        "strr= 'hello fucking world assholes'\n",
        "(lambda x : print(x))(strr)\n",
        "# hello fucking world assholes\n",
        "```\n",
        "\n",
        "```python\n",
        "strr= 'hello fucking world assholes'\n",
        "(lambda x : print(x))(strr)\n",
        "# hello fucking world assholes\n",
        "```\n",
        "아래 그림처럼 람다 자체를 호출해야함!  \n",
        "![image](https://github.com/SHEWANTSME/NOVEMBER/assets/91362178/10e8a5ae-558b-47e2-aca0-3e3d7a725073)\n",
        "![image](https://github.com/SHEWANTSME/NOVEMBER/assets/91362178/f8d84980-39b3-4962-8f6e-c59a7a49aa81)\n",
        "\n",
        "```python\n",
        "def plus_ten(x):\n",
        "  return x+10\n",
        "print(list(map(plus_ten,[4,3,23,1])))\n",
        "# [14,13,33,11]\n",
        "```\n",
        "\n",
        "이렇게 쓸 수도 있긴한데 굳이..?  \n",
        "```python\n",
        "print((lambda : 1)()) # 1\n",
        "x=10\n",
        "print((lambda:x)()) # 10\n",
        "```"
      ]
    },
    {
      "cell_type": "code",
      "execution_count": 90,
      "metadata": {
        "colab": {
          "base_uri": "https://localhost:8080/"
        },
        "id": "TYf1xVVaxt3m",
        "outputId": "0f7706e2-7264-4dd2-d0eb-4a890c85f873"
      },
      "outputs": [
        {
          "name": "stdout",
          "output_type": "stream",
          "text": [
            "hello fucking world assholes\n"
          ]
        }
      ],
      "source": [
        "strr= 'hello fucking world assholes'\n",
        "(lambda x : print(x))(strr)"
      ]
    },
    {
      "cell_type": "code",
      "execution_count": 2,
      "metadata": {},
      "outputs": [
        {
          "name": "stdout",
          "output_type": "stream",
          "text": [
            "hello world\n"
          ]
        }
      ],
      "source": []
    },
    {
      "cell_type": "code",
      "execution_count": null,
      "metadata": {},
      "outputs": [],
      "source": []
    }
  ],
  "metadata": {
    "colab": {
      "authorship_tag": "ABX9TyM6HYapBBR5DxWwmOK7+E1I",
      "include_colab_link": true,
      "provenance": []
    },
    "kernelspec": {
      "display_name": "Python 3",
      "name": "python3"
    },
    "language_info": {
      "codemirror_mode": {
        "name": "ipython",
        "version": 3
      },
      "file_extension": ".py",
      "mimetype": "text/x-python",
      "name": "python",
      "nbconvert_exporter": "python",
      "pygments_lexer": "ipython3",
      "version": "3.12.2"
    }
  },
  "nbformat": 4,
  "nbformat_minor": 0
}

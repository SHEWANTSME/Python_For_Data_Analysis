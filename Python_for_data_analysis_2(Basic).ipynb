{
 "cells": [
  {
   "cell_type": "markdown",
   "metadata": {},
   "source": [
    "## Tensors  \n",
    "Tensors are a specialized data structure that are very similar to `arrays` and `matrices`  \n",
    "we use these Tensors to encode the inputs and outputs of a model, as well as the model's parameters.  \n",
    "  \n",
    "`Tensors` are similar to numpy's ndarrays, except that..  \n",
    "tensors `can run on GPUs or other hardware accelerators`  \n",
    "\n",
    "In fact, tensors and numpy arrays can often share the same underlying memory, eliminating the need to copy data..   \n",
    "Tensors -> Optimized for automatic differentiation  "
   ]
  },
  {
   "cell_type": "code",
   "execution_count": 1,
   "metadata": {},
   "outputs": [],
   "source": [
    "import torch\n",
    "import numpy as np"
   ]
  },
  {
   "cell_type": "code",
   "execution_count": 2,
   "metadata": {},
   "outputs": [
    {
     "name": "stdout",
     "output_type": "stream",
     "text": [
      "tensor([[1, 2],\n",
      "        [3, 4]])\n"
     ]
    }
   ],
   "source": [
    "data = [[1, 2], [3, 4]]# 파이썬 내장 리스트\n",
    "x_data = torch.tensor(data) # tensor([[1, 2], [3, 4]])\n",
    "print(x_data)"
   ]
  },
  {
   "cell_type": "code",
   "execution_count": 7,
   "metadata": {},
   "outputs": [
    {
     "name": "stdout",
     "output_type": "stream",
     "text": [
      "tensor([[1, 2],\n",
      "        [3, 4]]) \n",
      " tensor([[1, 2],\n",
      "        [3, 4]])\n",
      "[[1 2]\n",
      " [3 4]] <class 'numpy.ndarray'>\n",
      "tensor([[1, 2],\n",
      "        [3, 4]])\n"
     ]
    }
   ],
   "source": [
    "np_array = np.array(data) # array([[1, 2], [3, 4]])\n",
    "x_np = torch.from_numpy(np_array) # tensor([[1, 2], [3, 4]])\n",
    "x_np_1 = torch.tensor(np_array)# tensor([[1, 2], [3, 4]])\n",
    "# you can variate using tensor by using torch.tensor or torch.from_numpy\n",
    "print(x_np, \"\\n\" , x_np_1)\n",
    "print(np.array(x_np),type(np.array(x_np)))\n",
    "print(torch.from_numpy(np_array))"
   ]
  },
  {
   "cell_type": "markdown",
   "metadata": {},
   "source": [
    "## torch.from_numpy() 와 torch.tensor()의 차이!  \n",
    "![from_numpy와_tensor의차이](https://github.com/SHEWANTSME/NOVEMBER/assets/91362178/ebebc306-5ff7-49e9-b400-1908d456dbcf)"
   ]
  },
  {
   "cell_type": "code",
   "execution_count": 9,
   "metadata": {},
   "outputs": [
    {
     "name": "stdout",
     "output_type": "stream",
     "text": [
      "ones - tensor : \n",
      " tensor([[1, 1],\n",
      "        [1, 1]]) \n",
      "\n",
      "random - tensor : \n",
      " tensor([[0.1121, 0.8381],\n",
      "        [0.3000, 0.4549]]) \n",
      "\n",
      "zeros - tensor : \n",
      " tensor([[0, 0],\n",
      "        [0, 0]]) \n",
      "\n"
     ]
    }
   ],
   "source": [
    "# 1만 있는 tensor, random한 tensor, 0만 있는 tensor\n",
    "data = [[1, 2], [3, 4]]\n",
    "x_data = torch.tensor(data)\n",
    "x_ones = torch.ones_like(x_data)\n",
    "print(f'ones - tensor : \\n {x_ones} \\n')\n",
    "x_rand= torch.rand_like(x_data, dtype=torch.float)# override the datatype of x_data, dtype은 float형태\n",
    "print(f'random - tensor : \\n {x_rand} \\n')\n",
    "x_zeros = torch.zeros_like(x_data)\n",
    "print(f'zeros - tensor : \\n {x_zeros} \\n')"
   ]
  },
  {
   "cell_type": "code",
   "execution_count": 10,
   "metadata": {},
   "outputs": [
    {
     "name": "stdout",
     "output_type": "stream",
     "text": [
      "random - tensor : \n",
      " tensor([[0.7504, 0.0040, 0.8707],\n",
      "        [0.8502, 0.4622, 0.3334]]) \n",
      "\n",
      "ones - tensor : \n",
      " tensor([[1., 1., 1.],\n",
      "        [1., 1., 1.]]) \n",
      "\n",
      "zeros - tensor : \n",
      " tensor([[0., 0., 0.],\n",
      "        [0., 0., 0.]]) \n",
      "\n"
     ]
    }
   ],
   "source": [
    "# 아니면 그냥 shape만 지정한 후에 1, 0, random tensor를 만들어도 됨\n",
    "shape = (2,3)# 2x3 행렬 + 튜플 형태\n",
    "# shape에서 (x,y)랑 (x,y,)의 차이는 뭘까? -> 별 차이 없어보임\n",
    "rand_tensor = torch.rand(shape)\n",
    "ones_tensor = torch.ones(shape)\n",
    "zeros_tensor = torch.zeros(shape)\n",
    "print(f'random - tensor : \\n {rand_tensor} \\n')\n",
    "print(f'ones - tensor : \\n {ones_tensor} \\n')\n",
    "print(f'zeros - tensor : \\n {zeros_tensor} \\n')"
   ]
  },
  {
   "cell_type": "code",
   "execution_count": 16,
   "metadata": {},
   "outputs": [
    {
     "name": "stdout",
     "output_type": "stream",
     "text": [
      "random - tensor : \n",
      " tensor([[0.4819, 0.5697, 0.9585],\n",
      "        [0.0919, 0.9896, 0.8758]]) \n",
      "\n",
      "ones - tensor : \n",
      " tensor([[1., 1., 1.],\n",
      "        [1., 1., 1.]]) \n",
      "\n",
      "zeros - tensor : \n",
      " tensor([[0., 0., 0.],\n",
      "        [0., 0., 0.]]) \n",
      "\n",
      "random - tensor dim : 2 \n",
      "\n",
      "ones - tensor dim : 2 \n",
      "\n",
      "zeros - tensor dim : 2 \n",
      "\n",
      "random - tensor : \n",
      " tensor([[0.4819, 0.5697],\n",
      "        [0.9585, 0.0919],\n",
      "        [0.9896, 0.8758]]) \n",
      "\n",
      "ones - tensor : \n",
      " tensor([[1., 1.],\n",
      "        [1., 1.],\n",
      "        [1., 1.]]) \n",
      "\n",
      "zeros - tensor : \n",
      " tensor([[0., 0.],\n",
      "        [0., 0.],\n",
      "        [0., 0.]]) \n",
      "\n",
      "random - tensor dim : 2 \n",
      "\n",
      "ones - tensor dim : 2 \n",
      "\n",
      "zeros - tensor dim : 2 \n",
      "\n"
     ]
    }
   ],
   "source": [
    "# dim과 shape의 차이는 뭘까? -> dim은 차원을 의미하고, shape은 행렬의 크기를 의미함\n",
    "# ex)\n",
    "shape = (2,3,)\n",
    "rand_tensor = torch.rand(shape)\n",
    "ones_tensor = torch.ones(shape)\n",
    "zeros_tensor = torch.zeros(shape)\n",
    "print(f'random - tensor : \\n {rand_tensor} \\n')\n",
    "print(f'ones - tensor : \\n {ones_tensor} \\n')\n",
    "print(f'zeros - tensor : \\n {zeros_tensor} \\n')\n",
    "\n",
    "# 2 by 3 행렬이니까 dim은 2겠지?\n",
    "print(f'random - tensor dim : {rand_tensor.ndim} \\n')\n",
    "print(f'ones - tensor dim : {ones_tensor.ndim} \\n')\n",
    "print(f'zeros - tensor dim : {zeros_tensor.ndim} \\n')\n",
    "\n",
    "# tensor의 shape을 바꿔보자\n",
    "# reshaped = shape.reshape(3,2) -> 이렇게 하면 안됨,, 왜냐하면 shape은 튜플이고, tuple은 immutable하기 때문이지\n",
    "reshaped_rand_tensor= torch.reshape(rand_tensor, (3,2))\n",
    "reshaped_ones_tensor= torch.reshape(ones_tensor, (3,2))\n",
    "reshaped_zeros_tensor= torch.reshape(zeros_tensor, (3,2))\n",
    "print(f'random - tensor : \\n {reshaped_rand_tensor} \\n')\n",
    "print(f'ones - tensor : \\n {reshaped_ones_tensor} \\n')\n",
    "print(f'zeros - tensor : \\n {reshaped_zeros_tensor} \\n')\n",
    "\n",
    "# 3 by 2 행렬이니까 dim은 2겠지?\n",
    "print(f'random - tensor dim : {reshaped_rand_tensor.ndim} \\n')\n",
    "print(f'ones - tensor dim : {reshaped_ones_tensor.ndim} \\n')\n",
    "print(f'zeros - tensor dim : {reshaped_zeros_tensor.ndim} \\n')"
   ]
  },
  {
   "cell_type": "code",
   "execution_count": null,
   "metadata": {},
   "outputs": [],
   "source": []
  },
  {
   "cell_type": "markdown",
   "metadata": {},
   "source": [
    "Over 100 tensor operations, including arithmetic, linear algebra, matrix manipulation(transposing, indexing, slicing,, etc..)  \n",
    "sampling and more are.. -> Find it yourself  \n",
    "\n",
    "Each of these operations can be run on the GPU  \n",
    "\n",
    "By default,, tensors are created on the CPU. So,, We need to explicitly move tensors to the GPU using `.to()`  \n",
    "Keep in mind that.. Copying large tensors across devices can be expensive in terms of time and memory!! "
   ]
  },
  {
   "cell_type": "code",
   "execution_count": 17,
   "metadata": {},
   "outputs": [],
   "source": [
    "if torch.cuda.is_available():\n",
    "    tensor= tensor.to('cuda')# tensor를 gpu로 옮기기 \n",
    "\n"
   ]
  },
  {
   "cell_type": "code",
   "execution_count": 18,
   "metadata": {},
   "outputs": [
    {
     "name": "stdout",
     "output_type": "stream",
     "text": [
      "First row :  tensor([1., 1., 1., 1.])\n",
      "First column :  tensor([1., 1., 1., 1.])\n",
      "Last column :  tensor([1., 1., 1., 1.])\n",
      "tensor([[1., 0., 1., 1.],\n",
      "        [1., 0., 1., 1.],\n",
      "        [1., 0., 1., 1.],\n",
      "        [1., 0., 1., 1.]])\n"
     ]
    }
   ],
   "source": [
    "tensor= torch.ones(4,4)# 4x4 행렬 다 1로 이루어짐\n",
    "print('First row : ', tensor[0])# tensor[0]은 1x4 행렬이 됨\n",
    "print('First column : ', tensor[:, 0])# tensor[:, 0]은 4x1 행렬이 됨\n",
    "print('Last column : ', tensor[..., -1])# tensor[..., -1]은 4x1 행렬이 됨\n",
    "tensor[:,1] = 0# tensor의 2번째 column을 0으로 바꿈\n",
    "print(tensor)"
   ]
  },
  {
   "cell_type": "code",
   "execution_count": 19,
   "metadata": {},
   "outputs": [
    {
     "name": "stdout",
     "output_type": "stream",
     "text": [
      "tensor([[1., 0., 1., 1., 1., 0., 1., 1., 1., 0., 1., 1.],\n",
      "        [1., 0., 1., 1., 1., 0., 1., 1., 1., 0., 1., 1.],\n",
      "        [1., 0., 1., 1., 1., 0., 1., 1., 1., 0., 1., 1.],\n",
      "        [1., 0., 1., 1., 1., 0., 1., 1., 1., 0., 1., 1.]])\n",
      "tensor([[1., 0., 1., 1.],\n",
      "        [1., 0., 1., 1.],\n",
      "        [1., 0., 1., 1.],\n",
      "        [1., 0., 1., 1.],\n",
      "        [1., 0., 1., 1.],\n",
      "        [1., 0., 1., 1.],\n",
      "        [1., 0., 1., 1.],\n",
      "        [1., 0., 1., 1.],\n",
      "        [1., 0., 1., 1.],\n",
      "        [1., 0., 1., 1.],\n",
      "        [1., 0., 1., 1.],\n",
      "        [1., 0., 1., 1.]])\n"
     ]
    }
   ],
   "source": [
    "t1 = torch.cat([tensor, tensor, tensor], dim=1)# tensor를 3번 반복해서 붙임\n",
    "# concat을 할 때 dim=0이면 row끼리 붙이고, dim=1이면 column끼리 붙임\n",
    "t2 = torch.cat([tensor, tensor, tensor], dim=0)# tensor를 3번 반복해서 붙임\n",
    "print(t1)\n",
    "print(t2)"
   ]
  },
  {
   "cell_type": "code",
   "execution_count": 22,
   "metadata": {},
   "outputs": [
    {
     "name": "stdout",
     "output_type": "stream",
     "text": [
      "tensor([[3., 3., 3., 3.],\n",
      "        [3., 3., 3., 3.],\n",
      "        [3., 3., 3., 3.],\n",
      "        [3., 3., 3., 3.]])\n",
      "tensor([[3., 3., 3., 3.],\n",
      "        [3., 3., 3., 3.],\n",
      "        [3., 3., 3., 3.],\n",
      "        [3., 3., 3., 3.]])\n",
      "tensor([[0.6516, 0.1110, 0.5502, 0.5791],\n",
      "        [0.2643, 0.2966, 0.4947, 0.8561],\n",
      "        [0.3936, 0.8186, 0.3833, 0.3576],\n",
      "        [0.7398, 0.8456, 0.3811, 0.9850]])\n"
     ]
    },
    {
     "data": {
      "text/plain": [
       "tensor([[1., 0., 1., 1.],\n",
       "        [0., 0., 0., 0.],\n",
       "        [1., 0., 1., 1.],\n",
       "        [1., 0., 1., 1.]])"
      ]
     },
     "execution_count": 22,
     "metadata": {},
     "output_type": "execute_result"
    }
   ],
   "source": [
    "# matrix multiplication between two tensors\n",
    "# y1, y2는 모두 같은 결과를 가짐\n",
    "y1 = tensor @ tensor.T# tensor와 tensor의 transpose를 곱함\n",
    "y2 = tensor.matmul(tensor.T)# tensor와 tensor의 transpose를 곱함\n",
    "y3 = torch.rand_like(tensor)# tensor와 tensor의 transpose를 곱함\n",
    "# rand_like : tensor와 같은 shape의 random한 tensor를 만듦\n",
    "print(y1)\n",
    "print(y2)\n",
    "print(y3)\n",
    "torch.mul(tensor, tensor.T, out=y3)# tensor와 tensor의 transpose를 곱함"
   ]
  },
  {
   "cell_type": "code",
   "execution_count": 23,
   "metadata": {},
   "outputs": [
    {
     "name": "stdout",
     "output_type": "stream",
     "text": [
      "tensor([[1., 0., 1., 1.],\n",
      "        [1., 0., 1., 1.],\n",
      "        [1., 0., 1., 1.],\n",
      "        [1., 0., 1., 1.]])\n",
      "tensor([[1., 0., 1., 1.],\n",
      "        [1., 0., 1., 1.],\n",
      "        [1., 0., 1., 1.],\n",
      "        [1., 0., 1., 1.]])\n",
      "tensor([[0.9918, 0.3902, 0.6652, 0.4876],\n",
      "        [0.4560, 0.4049, 0.4019, 0.2087],\n",
      "        [0.5481, 0.0944, 0.3864, 0.6198],\n",
      "        [0.3037, 0.4954, 0.2579, 0.4555]])\n"
     ]
    },
    {
     "data": {
      "text/plain": [
       "tensor([[1., 0., 1., 1.],\n",
       "        [0., 0., 0., 0.],\n",
       "        [1., 0., 1., 1.],\n",
       "        [1., 0., 1., 1.]])"
      ]
     },
     "execution_count": 23,
     "metadata": {},
     "output_type": "execute_result"
    }
   ],
   "source": [
    "# element-wise product ->성분 곱 -> 같은 위치에 있는 원소끼리 곱함\n",
    "z1 = tensor * tensor\n",
    "z2 = tensor.mul(tensor)\n",
    "z3 = torch.rand_like(tensor)\n",
    "print(z1)\n",
    "print(z2)\n",
    "print(z3)\n",
    "torch.mul(tensor, tensor.T, out=z3)# out에 tensor와 tensor의 곱을 넣음\n",
    "# 여기서는 tensor*tensor를 하나, tensor*tensor.T를 하나값이 같음"
   ]
  },
  {
   "cell_type": "code",
   "execution_count": 24,
   "metadata": {},
   "outputs": [
    {
     "name": "stdout",
     "output_type": "stream",
     "text": [
      "12.0 <class 'float'>\n"
     ]
    },
    {
     "ename": "RuntimeError",
     "evalue": "a Tensor with 16 elements cannot be converted to Scalar",
     "output_type": "error",
     "traceback": [
      "\u001b[0;31m---------------------------------------------------------------------------\u001b[0m",
      "\u001b[0;31mRuntimeError\u001b[0m                              Traceback (most recent call last)",
      "Cell \u001b[0;32mIn[24], line 6\u001b[0m\n\u001b[1;32m      4\u001b[0m agg_item \u001b[38;5;241m=\u001b[39m agg\u001b[38;5;241m.\u001b[39mitem()\n\u001b[1;32m      5\u001b[0m \u001b[38;5;28mprint\u001b[39m(agg_item, \u001b[38;5;28mtype\u001b[39m(agg_item))\n\u001b[0;32m----> 6\u001b[0m \u001b[38;5;28mprint\u001b[39m(\u001b[43mtensor\u001b[49m\u001b[38;5;241;43m.\u001b[39;49m\u001b[43mitem\u001b[49m\u001b[43m(\u001b[49m\u001b[43m)\u001b[49m)\n",
      "\u001b[0;31mRuntimeError\u001b[0m: a Tensor with 16 elements cannot be converted to Scalar"
     ]
    }
   ],
   "source": [
    "# single-element tensor -> tensor에 하나의 원소만 있는 경우\n",
    "# item()을 사용하면 python number로 바꿀 수 있음! -> tensor.item()은 안됨\n",
    "agg = tensor.sum()\n",
    "agg_item = agg.item()\n",
    "print(agg_item, type(agg_item))\n",
    "#print(tensor.item()) -> RuntimeError: only one element tensors can be converted to Python scalars"
   ]
  },
  {
   "cell_type": "code",
   "execution_count": 27,
   "metadata": {},
   "outputs": [
    {
     "name": "stdout",
     "output_type": "stream",
     "text": [
      "tensor([[11., 10., 11., 11.],\n",
      "        [11., 10., 11., 11.],\n",
      "        [11., 10., 11., 11.],\n",
      "        [11., 10., 11., 11.]]) \n",
      "\n",
      "tensor([[16., 15., 16., 16.],\n",
      "        [16., 15., 16., 16.],\n",
      "        [16., 15., 16., 16.],\n",
      "        [16., 15., 16., 16.]])\n",
      "tensor([[46., 45., 46., 46.],\n",
      "        [46., 45., 46., 46.],\n",
      "        [46., 45., 46., 46.],\n",
      "        [46., 45., 46., 46.]])\n",
      "tensor([[16., 15., 16., 16.],\n",
      "        [16., 15., 16., 16.],\n",
      "        [16., 15., 16., 16.],\n",
      "        [16., 15., 16., 16.]])\n"
     ]
    }
   ],
   "source": [
    "# in-place operation -> tensor의 값을 바꿔버리는 연산\n",
    "print(tensor, \"\\n\")\n",
    "tensor.add_(5)# tensor에 5를 더함 -> tensor가 바뀜\n",
    "tensor.add(40)# tensor에 40을 더함 -> tensor가 바뀌지 않음 -> 왜 안바뀌지?-> in-place operation이 아니기 때문\n",
    "print(tensor)\n",
    "print(tensor.add(30))# 이렇게 쓰면 print될때만 바뀌고 정작 tensor자체는 바뀌지 않음\n",
    "print(tensor)"
   ]
  },
  {
   "cell_type": "markdown",
   "metadata": {},
   "source": [
    "#### in place operation??  \n",
    "```python\n",
    "a = 10 # int는 immutable\n",
    "b = a # a와 b는 같은 memory address를 가리킴\n",
    "a += 1 # a는 immutable -> 수정이 필요할 경우에는 새로운 객체를 생성해서 할당함  \n",
    "print(a , b , a is b) # -> a 의 주소가 새로 할당되었기 때문에 a is not b!!\n",
    "# (11, 10, False)\n",
    "\n",
    "a = [1,2,3] # List is mutable\n",
    "b = a # a와 b는 같은 memory address를 가리킴\n",
    "a +=[4]# a is mutable -> 원래의 객체를 수정함 -> In - place Operation working\n",
    "print(a , b , a is b) # a의 메모리 주소는 변함이 없음!\n",
    "#([1,2,3,4],[1,2,3,4],True)\n",
    "\n",
    "a = a+[5]  # out-place 연산\n",
    "print(a , b, a is b)\n",
    "# ([1,2,3,4,5] , [1,2,3,4], False)\n",
    "```"
   ]
  },
  {
   "cell_type": "code",
   "execution_count": 31,
   "metadata": {},
   "outputs": [
    {
     "name": "stdout",
     "output_type": "stream",
     "text": [
      "11 10 False\n",
      "[1, 2, 3, 4] [1, 2, 3, 4] True\n",
      "[1, 2, 3, 4] [1, 2, 3] False\n"
     ]
    }
   ],
   "source": [
    "a =10\n",
    "b=a\n",
    "a+=1\n",
    "print(a, b, a is b)\n",
    "\n",
    "a=[1,2,3]\n",
    "b=a\n",
    "a+=[4] # a+=4하면 안되징(int is not iterable)\n",
    "print(a, b,a is b)\n",
    "\n",
    "a=[1,2,3]\n",
    "b=a\n",
    "a=a+[4] # out-place operation\n",
    "print(a, b, a is b)\n"
   ]
  },
  {
   "cell_type": "code",
   "execution_count": 35,
   "metadata": {},
   "outputs": [
    {
     "name": "stdout",
     "output_type": "stream",
     "text": [
      "t : tensor([1., 1., 1., 1., 1.])\n",
      "n : [1. 1. 1. 1. 1.]\n",
      "<class 'numpy.ndarray'>\n",
      "t : tensor([2., 2., 2., 2., 2.])\n",
      "n : [2. 2. 2. 2. 2.]\n",
      "t : tensor([3., 3., 3., 3., 3.])\n",
      "n : [3. 3. 3. 3. 3.]\n"
     ]
    }
   ],
   "source": [
    "# Tensor to numpy array\n",
    "t = torch.ones(5)\n",
    "print(f't : {t}')\n",
    "n = t.numpy()\n",
    "print(f'n : {n}')\n",
    "print(type(n))\n",
    "\n",
    "\n",
    "# 텐서에서 numpy로 바꾸면 텐서와 numpy가 같은 메모리를 공유함\n",
    "# 그래서 텐서를 바꾸면 numpy도 바뀌고, numpy를 바꾸면 텐서도 바뀜\n",
    "t.add_(1)\n",
    "print(f't : {t}')\n",
    "print(f'n : {n}')\n",
    "\n",
    "n+=1\n",
    "print(f't : {t}')\n",
    "print(f'n : {n}')\n",
    "#lis = list(n)\n",
    "#print(lis)"
   ]
  },
  {
   "cell_type": "code",
   "execution_count": 40,
   "metadata": {},
   "outputs": [
    {
     "name": "stdout",
     "output_type": "stream",
     "text": [
      "[1 2 3]   <class 'numpy.ndarray'>\n",
      "[[[0. 0. 0.]\n",
      "  [0. 0. 0.]]]   <class 'numpy.ndarray'>\n",
      "[1, 2, 3]   <class 'list'>\n"
     ]
    }
   ],
   "source": [
    "# ndarray와 그냥 array 차이점 \n",
    "nda = np.array([1,2,3]) # Single dimensional array\n",
    "print(nda, \" \" , type(nda))\n",
    "\n",
    "ndarr = np.ndarray([1,2,3]) # Multi dimensional array\n",
    "print(ndarr, \" \" , type(ndarr))\n",
    "\n",
    "# ------------ 그래도 위의 두 놈 다 ndarray객체\n",
    "\n",
    "# 하지만, 얘는 (기본 array는) -> python 에서는 list로 취급됨 -> list객체\n",
    "arr = list(nda)\n",
    "print(arr, \" \" , type(arr))"
   ]
  },
  {
   "cell_type": "markdown",
   "metadata": {},
   "source": [
    "![np ndarray_랑_np array차이](https://github.com/SHEWANTSME/NOVEMBER/assets/91362178/53ccf2ca-b482-437b-8894-f900de71e635)\n"
   ]
  },
  {
   "cell_type": "code",
   "execution_count": 41,
   "metadata": {},
   "outputs": [
    {
     "name": "stdout",
     "output_type": "stream",
     "text": [
      "t : tensor([1., 1., 1., 1., 1.], dtype=torch.float64) type : <class 'torch.Tensor'>\n",
      "n : [1. 1. 1. 1. 1.] type : <class 'numpy.ndarray'>\n"
     ]
    }
   ],
   "source": [
    "# numpy to tensor\n",
    "n = np.ones(5)\n",
    "t = torch.from_numpy(n) \n",
    "print(f't : {t} type : {type(t)}')\n",
    "print(f'n : {n} type : {type(n)}')"
   ]
  },
  {
   "cell_type": "markdown",
   "metadata": {},
   "source": [
    "## Basic Python  \n",
    "![스크린샷 2024-03-04 오후 9 39 16](https://github.com/SHEWANTSME/NOVEMBER/assets/91362178/9c53404d-17bd-4406-b668-ad31ab249a35)\n"
   ]
  },
  {
   "cell_type": "code",
   "execution_count": 42,
   "metadata": {},
   "outputs": [
    {
     "name": "stdout",
     "output_type": "stream",
     "text": [
      "<class 'bool'>\n",
      "False\n",
      "True\n",
      "False\n",
      "True\n",
      "Hello\n",
      "HELLO\n",
      "  hello\n",
      " hello \n",
      "he(ell)(ell)o\n",
      "world\n"
     ]
    }
   ],
   "source": [
    "# Booleans\n",
    "# python에선 not or and 같이 영어로 씀\n",
    "t,f = True,False\n",
    "print(type(t)) # <class 'bool'>\n",
    "print(t and f) # False -> Logical AND\n",
    "print(t or f) # True -> Logical OR\n",
    "print(not t) # False -> Logical NOT\n",
    "print(t != f) # True -> Logical XOR\n",
    "\n",
    "# Strings\n",
    "s = \"hello\"\n",
    "print(s.capitalize())  # Capitalize a string\n",
    "print(s.upper())       # Convert a string to uppercase; prints \"HELLO\"\n",
    "print(s.rjust(7))      # Right-justify a string, padding with spaces\n",
    "print(s.center(7))     # Center a string, padding with spaces\n",
    "print(s.replace('l', '(ell)'))  # Replace all instances of one substring with another\n",
    "print('  world '.strip())  # Strip leading and trailing whitespace"
   ]
  },
  {
   "cell_type": "markdown",
   "metadata": {},
   "source": [
    "![image](https://github.com/SHEWANTSME/NOVEMBER/assets/91362178/ba4fafa7-cdf3-4ca2-be89-a1cd3406f7cd)"
   ]
  },
  {
   "cell_type": "code",
   "execution_count": 43,
   "metadata": {},
   "outputs": [
    {
     "name": "stdout",
     "output_type": "stream",
     "text": [
      "[0, 1, 2, 3, 4]\n",
      "[2, 3]\n",
      "[2, 3, 4]\n",
      "[0, 1]\n",
      "[0, 1, 2, 3, 4]\n",
      "[0, 1, 2, 3]\n",
      "[0, 1, 8, 9, 4]\n"
     ]
    }
   ],
   "source": [
    "nums = list(range(5))    # range is a built-in function that creates a list of integers\n",
    "print(nums)         # Prints \"[0, 1, 2, 3, 4]\"\n",
    "print(nums[2:4])    # Get a slice from index 2 to 4 (exclusive); prints \"[2, 3]\"\n",
    "print(nums[2:])     # Get a slice from index 2 to the end; prints \"[2, 3, 4]\"\n",
    "print(nums[:2])     # Get a slice from the start to index 2 (exclusive); prints \"[0, 1]\"\n",
    "print(nums[:])      # Get a slice of the whole list; prints [\"0, 1, 2, 3, 4]\"\n",
    "print(nums[:-1])    # Slice indices can be negative; prints [\"0, 1, 2, 3]\"\n",
    "nums[2:4] = [8, 9] # Assign a new sublist to a slice\n",
    "print(nums)         # Prints \"[0, 1, 8, 9, 4]\"\n",
    "# slicing을 할 수 있다는 거는 list, numpy, tensor 모두 가능하고 mutable하기 떄문에 가능함"
   ]
  },
  {
   "cell_type": "markdown",
   "metadata": {},
   "source": [
    "![List_Comprehension](https://github.com/SHEWANTSME/NOVEMBER/assets/91362178/5e8dd0ba-d176-4022-8a4a-551b932bf611)\n"
   ]
  },
  {
   "cell_type": "code",
   "execution_count": 57,
   "metadata": {},
   "outputs": [
    {
     "name": "stdout",
     "output_type": "stream",
     "text": [
      "{-1: 0, 1: 4, 3: 16}\n",
      "{1: 1, 27: 9}\n"
     ]
    }
   ],
   "source": [
    "# 참고로 dict도 comprehension이 가능함\n",
    "nums = [0,1,2,3,4]\n",
    "even_num_to_square = {x-1:x**2 for x in nums if x%2==0} # 이런식으로 쓸 수 있음\n",
    "print(even_num_to_square)\n",
    "\n",
    "# 아니면 이렇게 쓸 수도 있음\n",
    "hon_jong = {x**3: x**2 for x in nums if x%2!=0}\n",
    "print(hon_jong)"
   ]
  },
  {
   "cell_type": "code",
   "execution_count": 44,
   "metadata": {},
   "outputs": [
    {
     "name": "stdout",
     "output_type": "stream",
     "text": [
      "cute\n",
      "True\n",
      "wet\n"
     ]
    }
   ],
   "source": [
    "# Dictionaries\n",
    "# A dictionary stores (key,vale) pairs\n",
    "d = {'cat': 'cute', 'dog': 'furry'}  # Create a new dictionary with some data\n",
    "print(d['cat'])       # Get an entry from a dictionary; prints \"cute\"\n",
    "print('cat' in d)     # Check if a dictionary has a given key; prints \"True\"\n",
    "\n",
    "d['fish'] = 'wet'    # Set an entry in a dictionary\n",
    "print(d['fish'])      # Prints \"wet\""
   ]
  },
  {
   "cell_type": "code",
   "execution_count": 45,
   "metadata": {},
   "outputs": [
    {
     "ename": "KeyError",
     "evalue": "'monkey'",
     "output_type": "error",
     "traceback": [
      "\u001b[0;31m---------------------------------------------------------------------------\u001b[0m",
      "\u001b[0;31mKeyError\u001b[0m                                  Traceback (most recent call last)",
      "Cell \u001b[0;32mIn[45], line 1\u001b[0m\n\u001b[0;32m----> 1\u001b[0m \u001b[38;5;28mprint\u001b[39m(\u001b[43md\u001b[49m\u001b[43m[\u001b[49m\u001b[38;5;124;43m'\u001b[39;49m\u001b[38;5;124;43mmonkey\u001b[39;49m\u001b[38;5;124;43m'\u001b[39;49m\u001b[43m]\u001b[49m)\n",
      "\u001b[0;31mKeyError\u001b[0m: 'monkey'"
     ]
    }
   ],
   "source": [
    "print(d['monkey'])  # KeyError: 'monkey' not a key of d"
   ]
  },
  {
   "cell_type": "code",
   "execution_count": 46,
   "metadata": {},
   "outputs": [
    {
     "name": "stdout",
     "output_type": "stream",
     "text": [
      "N/A\n",
      "wet\n"
     ]
    }
   ],
   "source": [
    "print(d.get('monkey', 'N/A'))  # Get an element with a default; prints \"N/A\"\n",
    "print(d.get('fish', 'N/A'))    # Get an element with a default; prints \"wet\"\n",
    "# .get() 메소드를 사용하면 KeyError없이 잘 예외처리 가능함\n",
    "# 복잡하게 굳이 Try Except 사용하지 않아도 get(찾고자하는 key값, key값 없을때 return할 값)을 사용하면 됨"
   ]
  },
  {
   "cell_type": "code",
   "execution_count": 47,
   "metadata": {},
   "outputs": [
    {
     "name": "stdout",
     "output_type": "stream",
     "text": [
      "N/A\n"
     ]
    }
   ],
   "source": [
    "del d['fish']        # Remove an element from a dictionary\n",
    "print(d.get('fish', 'N/A')) # \"fish\" is no longer a key; prints \"N/A\""
   ]
  },
  {
   "cell_type": "code",
   "execution_count": 58,
   "metadata": {},
   "outputs": [
    {
     "name": "stdout",
     "output_type": "stream",
     "text": [
      "True\n",
      "False\n"
     ]
    }
   ],
   "source": [
    "# Sets\n",
    "# A set is an unordered collection of distinct elements\n",
    "animals = {'cat', 'dog'}\n",
    "print('cat' in animals)   # Check if an element is in a set; prints \"True\"\n",
    "print('fish' in animals)  # prints \"False\""
   ]
  },
  {
   "cell_type": "code",
   "execution_count": 59,
   "metadata": {},
   "outputs": [
    {
     "name": "stdout",
     "output_type": "stream",
     "text": [
      "True\n",
      "3\n"
     ]
    }
   ],
   "source": [
    "animals.add('fish')      # Add an element to a set\n",
    "print('fish' in animals)\n",
    "print(len(animals))       # Number of elements in a set;"
   ]
  },
  {
   "cell_type": "code",
   "execution_count": 65,
   "metadata": {},
   "outputs": [
    {
     "name": "stdout",
     "output_type": "stream",
     "text": [
      "2\n",
      "1\n",
      "{'tiger', 'lion'}\n",
      "{'lion'}\n",
      "lion\n",
      "set()\n"
     ]
    },
    {
     "ename": "AttributeError",
     "evalue": "'set' object has no attribute 'insert'",
     "output_type": "error",
     "traceback": [
      "\u001b[0;31m---------------------------------------------------------------------------\u001b[0m",
      "\u001b[0;31mAttributeError\u001b[0m                            Traceback (most recent call last)",
      "Cell \u001b[0;32mIn[65], line 18\u001b[0m\n\u001b[1;32m     15\u001b[0m \u001b[38;5;28mprint\u001b[39m(animals)\n\u001b[1;32m     16\u001b[0m \u001b[38;5;66;03m# animals.append('hippo') -> set에서는 append 없음\u001b[39;00m\n\u001b[1;32m     17\u001b[0m \u001b[38;5;66;03m# del animals[0] -> set에서는 del 없음\u001b[39;00m\n\u001b[0;32m---> 18\u001b[0m \u001b[43manimals\u001b[49m\u001b[38;5;241;43m.\u001b[39;49m\u001b[43minsert\u001b[49m(\u001b[38;5;241m1\u001b[39m, \u001b[38;5;124m'\u001b[39m\u001b[38;5;124mhippo\u001b[39m\u001b[38;5;124m'\u001b[39m)\n",
      "\u001b[0;31mAttributeError\u001b[0m: 'set' object has no attribute 'insert'"
     ]
    }
   ],
   "source": [
    "animals.add('cat')       # Adding an element that is already in the set does nothing\n",
    "print(len(animals))       \n",
    "animals.remove('cat')    # Remove an element from a set\n",
    "print(len(animals))       \n",
    "# append, remove, pop, insert, del 등 list에서 사용하는 메소드중에서 set에서도 사용 가능한 애들 존재\n",
    "# 차이점은 list는 순서가 있지만, set은 순서가 없음\n",
    "animals.add('lion')\n",
    "animals.add('tiger')\n",
    "print(animals)\n",
    "animals.remove('tiger')\n",
    "print(animals)\n",
    "# animals.pop(1) -> list는 되는데 set은 안됨\n",
    "value = animals.pop()# set은 순서가 없기 때문에 pop할 때 어떤 원소가 나올지 모름\n",
    "print(value)\n",
    "print(animals)\n",
    "# animals.append('hippo') -> set에서는 append 없음\n",
    "# del animals[0] -> set에서는 del 없음\n",
    "#animals.insert(1, 'hippo')# -> set에서는 insert 없음\n",
    "\n",
    "# 결론적으로 add, remove, pop은 set에서도 사용 가능하지만, append, insert, del은 set에서는 사용 불가능함"
   ]
  },
  {
   "cell_type": "markdown",
   "metadata": {},
   "source": [
    "![image](https://github.com/SHEWANTSME/NOVEMBER/assets/91362178/fb29d422-8dd0-4fba-87a4-3640a7db8d5e)\n",
    "![image](https://github.com/SHEWANTSME/NOVEMBER/assets/91362178/c8f532a7-eca6-4193-a2e6-b2b5a23257b8)\n"
   ]
  }
 ],
 "metadata": {
  "kernelspec": {
   "display_name": "Python 3",
   "language": "python",
   "name": "python3"
  },
  "language_info": {
   "codemirror_mode": {
    "name": "ipython",
    "version": 3
   },
   "file_extension": ".py",
   "mimetype": "text/x-python",
   "name": "python",
   "nbconvert_exporter": "python",
   "pygments_lexer": "ipython3",
   "version": "3.9.16"
  }
 },
 "nbformat": 4,
 "nbformat_minor": 2
}
